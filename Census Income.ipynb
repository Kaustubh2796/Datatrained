{
 "cells": [
  {
   "cell_type": "code",
   "execution_count": 2,
   "id": "92055387",
   "metadata": {},
   "outputs": [],
   "source": [
    "import pandas as pd\n",
    "import numpy as np\n",
    "from sklearn.model_selection import train_test_split\n",
    "from sklearn.metrics import confusion_matrix,classification_report\n",
    "from sklearn.neighbors import KNeighborsClassifier\n",
    "from sklearn.preprocessing import StandardScaler\n",
    "import seaborn as sns\n",
    "import matplotlib.pyplot as plt\n",
    "from sklearn.preprocessing import LabelEncoder\n",
    "lab_enc=LabelEncoder()\n",
    "\n",
    "import warnings\n",
    "warnings.filterwarnings('ignore')"
   ]
  },
  {
   "cell_type": "code",
   "execution_count": 3,
   "id": "776c7a60",
   "metadata": {},
   "outputs": [
    {
     "data": {
      "text/html": [
       "<div>\n",
       "<style scoped>\n",
       "    .dataframe tbody tr th:only-of-type {\n",
       "        vertical-align: middle;\n",
       "    }\n",
       "\n",
       "    .dataframe tbody tr th {\n",
       "        vertical-align: top;\n",
       "    }\n",
       "\n",
       "    .dataframe thead th {\n",
       "        text-align: right;\n",
       "    }\n",
       "</style>\n",
       "<table border=\"1\" class=\"dataframe\">\n",
       "  <thead>\n",
       "    <tr style=\"text-align: right;\">\n",
       "      <th></th>\n",
       "      <th>Workclass</th>\n",
       "      <th>Fnlwgt</th>\n",
       "      <th>Education</th>\n",
       "      <th>Education_num</th>\n",
       "      <th>Marital_status</th>\n",
       "      <th>Occupation</th>\n",
       "      <th>Relationship</th>\n",
       "      <th>Race</th>\n",
       "      <th>Sex</th>\n",
       "      <th>Capital_gain</th>\n",
       "      <th>Capital_loss</th>\n",
       "      <th>Hours_per_week</th>\n",
       "      <th>Native_country</th>\n",
       "      <th>Income</th>\n",
       "    </tr>\n",
       "    <tr>\n",
       "      <th>Age</th>\n",
       "      <th></th>\n",
       "      <th></th>\n",
       "      <th></th>\n",
       "      <th></th>\n",
       "      <th></th>\n",
       "      <th></th>\n",
       "      <th></th>\n",
       "      <th></th>\n",
       "      <th></th>\n",
       "      <th></th>\n",
       "      <th></th>\n",
       "      <th></th>\n",
       "      <th></th>\n",
       "      <th></th>\n",
       "    </tr>\n",
       "  </thead>\n",
       "  <tbody>\n",
       "    <tr>\n",
       "      <th>50</th>\n",
       "      <td>Self-emp-not-inc</td>\n",
       "      <td>83311</td>\n",
       "      <td>Bachelors</td>\n",
       "      <td>13</td>\n",
       "      <td>Married-civ-spouse</td>\n",
       "      <td>Exec-managerial</td>\n",
       "      <td>Husband</td>\n",
       "      <td>White</td>\n",
       "      <td>Male</td>\n",
       "      <td>0</td>\n",
       "      <td>0</td>\n",
       "      <td>13</td>\n",
       "      <td>United-States</td>\n",
       "      <td>&lt;=50K</td>\n",
       "    </tr>\n",
       "    <tr>\n",
       "      <th>38</th>\n",
       "      <td>Private</td>\n",
       "      <td>215646</td>\n",
       "      <td>HS-grad</td>\n",
       "      <td>9</td>\n",
       "      <td>Divorced</td>\n",
       "      <td>Handlers-cleaners</td>\n",
       "      <td>Not-in-family</td>\n",
       "      <td>White</td>\n",
       "      <td>Male</td>\n",
       "      <td>0</td>\n",
       "      <td>0</td>\n",
       "      <td>40</td>\n",
       "      <td>United-States</td>\n",
       "      <td>&lt;=50K</td>\n",
       "    </tr>\n",
       "    <tr>\n",
       "      <th>53</th>\n",
       "      <td>Private</td>\n",
       "      <td>234721</td>\n",
       "      <td>11th</td>\n",
       "      <td>7</td>\n",
       "      <td>Married-civ-spouse</td>\n",
       "      <td>Handlers-cleaners</td>\n",
       "      <td>Husband</td>\n",
       "      <td>Black</td>\n",
       "      <td>Male</td>\n",
       "      <td>0</td>\n",
       "      <td>0</td>\n",
       "      <td>40</td>\n",
       "      <td>United-States</td>\n",
       "      <td>&lt;=50K</td>\n",
       "    </tr>\n",
       "    <tr>\n",
       "      <th>28</th>\n",
       "      <td>Private</td>\n",
       "      <td>338409</td>\n",
       "      <td>Bachelors</td>\n",
       "      <td>13</td>\n",
       "      <td>Married-civ-spouse</td>\n",
       "      <td>Prof-specialty</td>\n",
       "      <td>Wife</td>\n",
       "      <td>Black</td>\n",
       "      <td>Female</td>\n",
       "      <td>0</td>\n",
       "      <td>0</td>\n",
       "      <td>40</td>\n",
       "      <td>Cuba</td>\n",
       "      <td>&lt;=50K</td>\n",
       "    </tr>\n",
       "    <tr>\n",
       "      <th>37</th>\n",
       "      <td>Private</td>\n",
       "      <td>284582</td>\n",
       "      <td>Masters</td>\n",
       "      <td>14</td>\n",
       "      <td>Married-civ-spouse</td>\n",
       "      <td>Exec-managerial</td>\n",
       "      <td>Wife</td>\n",
       "      <td>White</td>\n",
       "      <td>Female</td>\n",
       "      <td>0</td>\n",
       "      <td>0</td>\n",
       "      <td>40</td>\n",
       "      <td>United-States</td>\n",
       "      <td>&lt;=50K</td>\n",
       "    </tr>\n",
       "  </tbody>\n",
       "</table>\n",
       "</div>"
      ],
      "text/plain": [
       "             Workclass  Fnlwgt   Education  Education_num  \\\n",
       "Age                                                         \n",
       "50    Self-emp-not-inc   83311   Bachelors             13   \n",
       "38             Private  215646     HS-grad              9   \n",
       "53             Private  234721        11th              7   \n",
       "28             Private  338409   Bachelors             13   \n",
       "37             Private  284582     Masters             14   \n",
       "\n",
       "          Marital_status          Occupation    Relationship    Race      Sex  \\\n",
       "Age                                                                             \n",
       "50    Married-civ-spouse     Exec-managerial         Husband   White     Male   \n",
       "38              Divorced   Handlers-cleaners   Not-in-family   White     Male   \n",
       "53    Married-civ-spouse   Handlers-cleaners         Husband   Black     Male   \n",
       "28    Married-civ-spouse      Prof-specialty            Wife   Black   Female   \n",
       "37    Married-civ-spouse     Exec-managerial            Wife   White   Female   \n",
       "\n",
       "     Capital_gain  Capital_loss  Hours_per_week  Native_country  Income  \n",
       "Age                                                                      \n",
       "50              0             0              13   United-States   <=50K  \n",
       "38              0             0              40   United-States   <=50K  \n",
       "53              0             0              40   United-States   <=50K  \n",
       "28              0             0              40            Cuba   <=50K  \n",
       "37              0             0              40   United-States   <=50K  "
      ]
     },
     "execution_count": 3,
     "metadata": {},
     "output_type": "execute_result"
    }
   ],
   "source": [
    "df=pd.read_csv('https://raw.githubusercontent.com/dsrscientist/dataset1/master/census_income.csv',index_col=0)\n",
    "df.head()"
   ]
  },
  {
   "cell_type": "code",
   "execution_count": 5,
   "id": "87991d9c",
   "metadata": {},
   "outputs": [
    {
     "data": {
      "text/html": [
       "<div>\n",
       "<style scoped>\n",
       "    .dataframe tbody tr th:only-of-type {\n",
       "        vertical-align: middle;\n",
       "    }\n",
       "\n",
       "    .dataframe tbody tr th {\n",
       "        vertical-align: top;\n",
       "    }\n",
       "\n",
       "    .dataframe thead th {\n",
       "        text-align: right;\n",
       "    }\n",
       "</style>\n",
       "<table border=\"1\" class=\"dataframe\">\n",
       "  <thead>\n",
       "    <tr style=\"text-align: right;\">\n",
       "      <th></th>\n",
       "      <th>Fnlwgt</th>\n",
       "      <th>Education_num</th>\n",
       "      <th>Capital_gain</th>\n",
       "      <th>Capital_loss</th>\n",
       "      <th>Hours_per_week</th>\n",
       "    </tr>\n",
       "  </thead>\n",
       "  <tbody>\n",
       "    <tr>\n",
       "      <th>count</th>\n",
       "      <td>3.256000e+04</td>\n",
       "      <td>32560.000000</td>\n",
       "      <td>32560.000000</td>\n",
       "      <td>32560.000000</td>\n",
       "      <td>32560.000000</td>\n",
       "    </tr>\n",
       "    <tr>\n",
       "      <th>mean</th>\n",
       "      <td>1.897818e+05</td>\n",
       "      <td>10.080590</td>\n",
       "      <td>1077.615172</td>\n",
       "      <td>87.306511</td>\n",
       "      <td>40.437469</td>\n",
       "    </tr>\n",
       "    <tr>\n",
       "      <th>std</th>\n",
       "      <td>1.055498e+05</td>\n",
       "      <td>2.572709</td>\n",
       "      <td>7385.402999</td>\n",
       "      <td>402.966116</td>\n",
       "      <td>12.347618</td>\n",
       "    </tr>\n",
       "    <tr>\n",
       "      <th>min</th>\n",
       "      <td>1.228500e+04</td>\n",
       "      <td>1.000000</td>\n",
       "      <td>0.000000</td>\n",
       "      <td>0.000000</td>\n",
       "      <td>1.000000</td>\n",
       "    </tr>\n",
       "    <tr>\n",
       "      <th>25%</th>\n",
       "      <td>1.178315e+05</td>\n",
       "      <td>9.000000</td>\n",
       "      <td>0.000000</td>\n",
       "      <td>0.000000</td>\n",
       "      <td>40.000000</td>\n",
       "    </tr>\n",
       "    <tr>\n",
       "      <th>50%</th>\n",
       "      <td>1.783630e+05</td>\n",
       "      <td>10.000000</td>\n",
       "      <td>0.000000</td>\n",
       "      <td>0.000000</td>\n",
       "      <td>40.000000</td>\n",
       "    </tr>\n",
       "    <tr>\n",
       "      <th>75%</th>\n",
       "      <td>2.370545e+05</td>\n",
       "      <td>12.000000</td>\n",
       "      <td>0.000000</td>\n",
       "      <td>0.000000</td>\n",
       "      <td>45.000000</td>\n",
       "    </tr>\n",
       "    <tr>\n",
       "      <th>max</th>\n",
       "      <td>1.484705e+06</td>\n",
       "      <td>16.000000</td>\n",
       "      <td>99999.000000</td>\n",
       "      <td>4356.000000</td>\n",
       "      <td>99.000000</td>\n",
       "    </tr>\n",
       "  </tbody>\n",
       "</table>\n",
       "</div>"
      ],
      "text/plain": [
       "             Fnlwgt  Education_num  Capital_gain  Capital_loss  Hours_per_week\n",
       "count  3.256000e+04   32560.000000  32560.000000  32560.000000    32560.000000\n",
       "mean   1.897818e+05      10.080590   1077.615172     87.306511       40.437469\n",
       "std    1.055498e+05       2.572709   7385.402999    402.966116       12.347618\n",
       "min    1.228500e+04       1.000000      0.000000      0.000000        1.000000\n",
       "25%    1.178315e+05       9.000000      0.000000      0.000000       40.000000\n",
       "50%    1.783630e+05      10.000000      0.000000      0.000000       40.000000\n",
       "75%    2.370545e+05      12.000000      0.000000      0.000000       45.000000\n",
       "max    1.484705e+06      16.000000  99999.000000   4356.000000       99.000000"
      ]
     },
     "execution_count": 5,
     "metadata": {},
     "output_type": "execute_result"
    }
   ],
   "source": [
    "df.describe()"
   ]
  },
  {
   "cell_type": "code",
   "execution_count": 6,
   "id": "54d989ae",
   "metadata": {},
   "outputs": [
    {
     "data": {
      "text/plain": [
       "(32560, 14)"
      ]
     },
     "execution_count": 6,
     "metadata": {},
     "output_type": "execute_result"
    }
   ],
   "source": [
    "df.shape"
   ]
  },
  {
   "cell_type": "code",
   "execution_count": 7,
   "id": "618b1a7a",
   "metadata": {},
   "outputs": [
    {
     "name": "stdout",
     "output_type": "stream",
     "text": [
      "<class 'pandas.core.frame.DataFrame'>\n",
      "Int64Index: 32560 entries, 50 to 52\n",
      "Data columns (total 14 columns):\n",
      " #   Column          Non-Null Count  Dtype \n",
      "---  ------          --------------  ----- \n",
      " 0   Workclass       32560 non-null  object\n",
      " 1   Fnlwgt          32560 non-null  int64 \n",
      " 2   Education       32560 non-null  object\n",
      " 3   Education_num   32560 non-null  int64 \n",
      " 4   Marital_status  32560 non-null  object\n",
      " 5   Occupation      32560 non-null  object\n",
      " 6   Relationship    32560 non-null  object\n",
      " 7   Race            32560 non-null  object\n",
      " 8   Sex             32560 non-null  object\n",
      " 9   Capital_gain    32560 non-null  int64 \n",
      " 10  Capital_loss    32560 non-null  int64 \n",
      " 11  Hours_per_week  32560 non-null  int64 \n",
      " 12  Native_country  32560 non-null  object\n",
      " 13  Income          32560 non-null  object\n",
      "dtypes: int64(5), object(9)\n",
      "memory usage: 3.7+ MB\n"
     ]
    }
   ],
   "source": [
    "df.info()"
   ]
  },
  {
   "cell_type": "code",
   "execution_count": null,
   "id": "69b825df",
   "metadata": {},
   "outputs": [],
   "source": [
    "There are no Null values "
   ]
  },
  {
   "cell_type": "code",
   "execution_count": 8,
   "id": "65a92259",
   "metadata": {},
   "outputs": [],
   "source": [
    "df1=lab_enc.fit_transform(df['Workclass'])\n",
    "df['Workclass']=df1"
   ]
  },
  {
   "cell_type": "code",
   "execution_count": 9,
   "id": "8d06c3ce",
   "metadata": {},
   "outputs": [],
   "source": [
    "df1=lab_enc.fit_transform(df['Education'])\n",
    "df['Education']=df1"
   ]
  },
  {
   "cell_type": "code",
   "execution_count": 10,
   "id": "9f428da6",
   "metadata": {},
   "outputs": [],
   "source": [
    "df1=lab_enc.fit_transform(df['Marital_status'])\n",
    "df['Marital_status']=df1"
   ]
  },
  {
   "cell_type": "code",
   "execution_count": 11,
   "id": "ac6a43fd",
   "metadata": {},
   "outputs": [],
   "source": [
    "df1=lab_enc.fit_transform(df['Occupation'])\n",
    "df['Occupation']=df1"
   ]
  },
  {
   "cell_type": "code",
   "execution_count": 12,
   "id": "ebb08ea2",
   "metadata": {},
   "outputs": [],
   "source": [
    "df1=lab_enc.fit_transform(df['Relationship'])\n",
    "df['Relationship']=df1"
   ]
  },
  {
   "cell_type": "code",
   "execution_count": 13,
   "id": "b1b92f74",
   "metadata": {},
   "outputs": [],
   "source": [
    "df1=lab_enc.fit_transform(df['Race'])\n",
    "df['Race']=df1"
   ]
  },
  {
   "cell_type": "code",
   "execution_count": 14,
   "id": "ed928ced",
   "metadata": {},
   "outputs": [],
   "source": [
    "df1=lab_enc.fit_transform(df['Sex'])\n",
    "df['Sex']=df1"
   ]
  },
  {
   "cell_type": "code",
   "execution_count": 15,
   "id": "0e9011bb",
   "metadata": {},
   "outputs": [],
   "source": [
    "df1=lab_enc.fit_transform(df['Native_country'])\n",
    "df['Native_country']=df1"
   ]
  },
  {
   "cell_type": "code",
   "execution_count": 16,
   "id": "46623fc6",
   "metadata": {},
   "outputs": [],
   "source": [
    "df1=lab_enc.fit_transform(df['Income'])\n",
    "df['Income']=df1"
   ]
  },
  {
   "cell_type": "code",
   "execution_count": 20,
   "id": "7afa2ff3",
   "metadata": {},
   "outputs": [
    {
     "name": "stdout",
     "output_type": "stream",
     "text": [
      "<class 'pandas.core.frame.DataFrame'>\n",
      "Int64Index: 32560 entries, 50 to 52\n",
      "Data columns (total 14 columns):\n",
      " #   Column          Non-Null Count  Dtype\n",
      "---  ------          --------------  -----\n",
      " 0   Workclass       32560 non-null  int32\n",
      " 1   Fnlwgt          32560 non-null  int64\n",
      " 2   Education       32560 non-null  int32\n",
      " 3   Education_num   32560 non-null  int64\n",
      " 4   Marital_status  32560 non-null  int32\n",
      " 5   Occupation      32560 non-null  int32\n",
      " 6   Relationship    32560 non-null  int32\n",
      " 7   Race            32560 non-null  int32\n",
      " 8   Sex             32560 non-null  int32\n",
      " 9   Capital_gain    32560 non-null  int64\n",
      " 10  Capital_loss    32560 non-null  int64\n",
      " 11  Hours_per_week  32560 non-null  int64\n",
      " 12  Native_country  32560 non-null  int32\n",
      " 13  Income          32560 non-null  int32\n",
      "dtypes: int32(9), int64(5)\n",
      "memory usage: 2.6 MB\n"
     ]
    }
   ],
   "source": [
    "df.info()"
   ]
  },
  {
   "cell_type": "code",
   "execution_count": null,
   "id": "22e7193d",
   "metadata": {},
   "outputs": [],
   "source": []
  },
  {
   "cell_type": "code",
   "execution_count": 17,
   "id": "6e459750",
   "metadata": {},
   "outputs": [],
   "source": [
    "from sklearn.feature_selection import SelectKBest,f_classif"
   ]
  },
  {
   "cell_type": "code",
   "execution_count": 18,
   "id": "47a64c08",
   "metadata": {},
   "outputs": [],
   "source": [
    "X=df.drop('Income',axis=1)\n",
    "y=df['Income']"
   ]
  },
  {
   "cell_type": "code",
   "execution_count": 19,
   "id": "3c755923",
   "metadata": {},
   "outputs": [
    {
     "name": "stdout",
     "output_type": "stream",
     "text": [
      "     Features_Name        Score\n",
      "3    Education_num  4120.741694\n",
      "6     Relationship  2187.696334\n",
      "11  Hours_per_week  1813.339094\n",
      "9     Capital_gain  1709.157677\n",
      "8              Sex  1593.288816\n",
      "4   Marital_status  1346.636300\n",
      "10    Capital_loss   754.777449\n",
      "2        Education   206.095569\n",
      "5       Occupation   186.393133\n"
     ]
    }
   ],
   "source": [
    "best_features=SelectKBest(score_func=f_classif, k=9)\n",
    "fit=best_features.fit(X,y)\n",
    "\n",
    "df_scores=pd.DataFrame(fit.scores_)#as we kknow this will be done through ANOVA , taht score I am going to get\n",
    "\n",
    "df_columns=pd.DataFrame(X.columns)\n",
    "\n",
    "feature_scores=pd.concat([df_columns,df_scores],axis=1)\n",
    "\n",
    "feature_scores.columns=['Features_Name','Score']#name output columns\n",
    "\n",
    "print(feature_scores.nlargest(9,'Score'))"
   ]
  },
  {
   "cell_type": "code",
   "execution_count": 21,
   "id": "bf5b6132",
   "metadata": {},
   "outputs": [],
   "source": [
    "new_X=df[['Education_num','Relationship','Hours_per_week','Capital_gain','Sex',\n",
    "          'Marital_status','Capital_loss','Education','Occupation']]"
   ]
  },
  {
   "cell_type": "code",
   "execution_count": 22,
   "id": "78907448",
   "metadata": {},
   "outputs": [],
   "source": [
    "scalar=StandardScaler()\n",
    "X_scalar=scalar.fit_transform(new_X)"
   ]
  },
  {
   "cell_type": "code",
   "execution_count": 23,
   "id": "314ff529",
   "metadata": {},
   "outputs": [
    {
     "name": "stdout",
     "output_type": "stream",
     "text": [
      "Knn Training time 0.7703619003295898\n",
      "Knn Test time 1.564742088317871\n"
     ]
    }
   ],
   "source": [
    "from time import time\n",
    "\n",
    "x_train,x_test,y_train,y_test=train_test_split(X_scalar,y,test_size=0.25, random_state=355)\n",
    "\n",
    "knn=KNeighborsClassifier()\n",
    "\n",
    "start=time()\n",
    "knn.fit(x_train,y_train)\n",
    "print(\"Knn Training time\",(time()-start))\n",
    "\n",
    "start=time()\n",
    "y_pred=knn.predict(x_test)\n",
    "print(\"Knn Test time\",(time()-start))"
   ]
  },
  {
   "cell_type": "code",
   "execution_count": 24,
   "id": "6e91bd73",
   "metadata": {},
   "outputs": [
    {
     "data": {
      "text/plain": [
       "array([[5643,  517],\n",
       "       [ 838, 1142]], dtype=int64)"
      ]
     },
     "execution_count": 24,
     "metadata": {},
     "output_type": "execute_result"
    }
   ],
   "source": [
    "cfm=confusion_matrix(y_test,y_pred)\n",
    "cfm"
   ]
  },
  {
   "cell_type": "code",
   "execution_count": 25,
   "id": "70e2ce2b",
   "metadata": {},
   "outputs": [
    {
     "name": "stdout",
     "output_type": "stream",
     "text": [
      "              precision    recall  f1-score   support\n",
      "\n",
      "           0       0.87      0.92      0.89      6160\n",
      "           1       0.69      0.58      0.63      1980\n",
      "\n",
      "    accuracy                           0.83      8140\n",
      "   macro avg       0.78      0.75      0.76      8140\n",
      "weighted avg       0.83      0.83      0.83      8140\n",
      "\n"
     ]
    }
   ],
   "source": [
    "print(classification_report(y_test,y_pred,digits=2))"
   ]
  },
  {
   "cell_type": "code",
   "execution_count": 26,
   "id": "e7e7b476",
   "metadata": {},
   "outputs": [
    {
     "data": {
      "text/plain": [
       "KFold(n_splits=3, random_state=None, shuffle=True)"
      ]
     },
     "execution_count": 26,
     "metadata": {},
     "output_type": "execute_result"
    }
   ],
   "source": [
    "from sklearn.model_selection import KFold,cross_val_score\n",
    "\n",
    "k_f=KFold(n_splits=3,shuffle=True)\n",
    "\n",
    "k_f"
   ]
  },
  {
   "cell_type": "code",
   "execution_count": 27,
   "id": "4e248e89",
   "metadata": {},
   "outputs": [
    {
     "name": "stdout",
     "output_type": "stream",
     "text": [
      "train [2 3 4 6 8 9] test [0 1 5 7]\n",
      "train [0 1 2 4 5 7 9] test [3 6 8]\n",
      "train [0 1 3 5 6 7 8] test [2 4 9]\n"
     ]
    }
   ],
   "source": [
    "for train,test in k_f.split([1,2,3,4,5,6,7,8,9,10]):\n",
    "    print('train',train,'test',test)"
   ]
  },
  {
   "cell_type": "code",
   "execution_count": 28,
   "id": "e60d6d71",
   "metadata": {},
   "outputs": [
    {
     "data": {
      "text/plain": [
       "array([0.81541769, 0.83753071, 0.84060197, 0.83015971, 0.81603194,\n",
       "       0.82800983, 0.83200246, 0.83998771, 0.84152334, 0.82555283])"
      ]
     },
     "execution_count": 28,
     "metadata": {},
     "output_type": "execute_result"
    }
   ],
   "source": [
    "cross_val_score(knn,X_scalar,y,cv=10)"
   ]
  },
  {
   "cell_type": "code",
   "execution_count": 29,
   "id": "10d5fdae",
   "metadata": {},
   "outputs": [
    {
     "data": {
      "text/plain": [
       "0.8293918918918919"
      ]
     },
     "execution_count": 29,
     "metadata": {},
     "output_type": "execute_result"
    }
   ],
   "source": [
    "cross_val_score(KNeighborsClassifier(),X_scalar,y,cv=5).mean()"
   ]
  },
  {
   "cell_type": "code",
   "execution_count": null,
   "id": "53e1edf9",
   "metadata": {},
   "outputs": [],
   "source": []
  },
  {
   "cell_type": "code",
   "execution_count": null,
   "id": "b621b1be",
   "metadata": {},
   "outputs": [],
   "source": []
  },
  {
   "cell_type": "code",
   "execution_count": 30,
   "id": "6c87580a",
   "metadata": {},
   "outputs": [],
   "source": [
    "from sklearn.model_selection import GridSearchCV"
   ]
  },
  {
   "cell_type": "code",
   "execution_count": 31,
   "id": "c43b13b3",
   "metadata": {},
   "outputs": [],
   "source": [
    "param_grid={'algorithm':['kd_tree','brute'],\n",
    "            'leaf_size':[3,5,6,7,8],\n",
    "            'n_neighbors':[3,5,7,9,11,13]\n",
    "}"
   ]
  },
  {
   "cell_type": "code",
   "execution_count": 32,
   "id": "5b3b3c12",
   "metadata": {},
   "outputs": [],
   "source": [
    "gridsearch=GridSearchCV(estimator=knn,param_grid=param_grid)"
   ]
  },
  {
   "cell_type": "code",
   "execution_count": 33,
   "id": "75ffbe54",
   "metadata": {},
   "outputs": [
    {
     "data": {
      "text/plain": [
       "GridSearchCV(estimator=KNeighborsClassifier(),\n",
       "             param_grid={'algorithm': ['kd_tree', 'brute'],\n",
       "                         'leaf_size': [3, 5, 6, 7, 8],\n",
       "                         'n_neighbors': [3, 5, 7, 9, 11, 13]})"
      ]
     },
     "execution_count": 33,
     "metadata": {},
     "output_type": "execute_result"
    }
   ],
   "source": [
    "gridsearch.fit(x_train,y_train)"
   ]
  },
  {
   "cell_type": "code",
   "execution_count": 34,
   "id": "b156636a",
   "metadata": {},
   "outputs": [
    {
     "data": {
      "text/plain": [
       "{'algorithm': 'kd_tree', 'leaf_size': 3, 'n_neighbors': 13}"
      ]
     },
     "execution_count": 34,
     "metadata": {},
     "output_type": "execute_result"
    }
   ],
   "source": [
    "gridsearch.best_params_"
   ]
  },
  {
   "cell_type": "code",
   "execution_count": 45,
   "id": "f2ac6d07",
   "metadata": {},
   "outputs": [],
   "source": [
    "knn = KNeighborsClassifier(algorithm ='kd_tree',leaf_size=3,n_neighbors=13)"
   ]
  },
  {
   "cell_type": "code",
   "execution_count": 46,
   "id": "0b8ea482",
   "metadata": {},
   "outputs": [
    {
     "data": {
      "text/plain": [
       "KNeighborsClassifier(algorithm='kd_tree', leaf_size=3, n_neighbors=13)"
      ]
     },
     "execution_count": 46,
     "metadata": {},
     "output_type": "execute_result"
    }
   ],
   "source": [
    "knn.fit(x_train,y_train)"
   ]
  },
  {
   "cell_type": "code",
   "execution_count": 47,
   "id": "1fc7ebeb",
   "metadata": {},
   "outputs": [],
   "source": [
    "y_pred=knn.predict(x_test)"
   ]
  },
  {
   "cell_type": "code",
   "execution_count": 48,
   "id": "ee6613d3",
   "metadata": {},
   "outputs": [
    {
     "data": {
      "text/plain": [
       "array([[5656,  504],\n",
       "       [ 868, 1112]], dtype=int64)"
      ]
     },
     "execution_count": 48,
     "metadata": {},
     "output_type": "execute_result"
    }
   ],
   "source": [
    "cfm=confusion_matrix(y_test,y_pred)\n",
    "cfm"
   ]
  },
  {
   "cell_type": "code",
   "execution_count": 49,
   "id": "c5266a5b",
   "metadata": {},
   "outputs": [
    {
     "name": "stdout",
     "output_type": "stream",
     "text": [
      "              precision    recall  f1-score   support\n",
      "\n",
      "           0       0.87      0.92      0.89      6160\n",
      "           1       0.69      0.56      0.62      1980\n",
      "\n",
      "    accuracy                           0.83      8140\n",
      "   macro avg       0.78      0.74      0.76      8140\n",
      "weighted avg       0.82      0.83      0.83      8140\n",
      "\n"
     ]
    }
   ],
   "source": [
    "print(classification_report(y_test,y_pred,digits=2))"
   ]
  },
  {
   "cell_type": "code",
   "execution_count": null,
   "id": "35269b38",
   "metadata": {},
   "outputs": [],
   "source": [
    "We can see from the above that Hyper parameter we got the same accuracy as the above"
   ]
  },
  {
   "cell_type": "code",
   "execution_count": null,
   "id": "3f2d2f45",
   "metadata": {},
   "outputs": [],
   "source": []
  }
 ],
 "metadata": {
  "kernelspec": {
   "display_name": "Python 3 (ipykernel)",
   "language": "python",
   "name": "python3"
  },
  "language_info": {
   "codemirror_mode": {
    "name": "ipython",
    "version": 3
   },
   "file_extension": ".py",
   "mimetype": "text/x-python",
   "name": "python",
   "nbconvert_exporter": "python",
   "pygments_lexer": "ipython3",
   "version": "3.9.7"
  }
 },
 "nbformat": 4,
 "nbformat_minor": 5
}
