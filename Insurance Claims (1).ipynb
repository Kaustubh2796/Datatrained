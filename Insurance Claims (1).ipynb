{
 "cells": [
  {
   "cell_type": "code",
   "execution_count": 1,
   "id": "d4c8b5dd",
   "metadata": {},
   "outputs": [],
   "source": [
    "import pandas as pd\n",
    "import numpy as np\n",
    "from sklearn.model_selection import train_test_split\n",
    "from sklearn.metrics import confusion_matrix,classification_report\n",
    "from sklearn.neighbors import KNeighborsClassifier\n",
    "from sklearn.preprocessing import StandardScaler\n",
    "import seaborn as sns\n",
    "import matplotlib.pyplot as plt\n",
    "from sklearn.preprocessing import LabelEncoder\n",
    "lab_enc=LabelEncoder()\n",
    "\n",
    "import warnings\n",
    "warnings.filterwarnings('ignore')"
   ]
  },
  {
   "cell_type": "code",
   "execution_count": null,
   "id": "87eca30f",
   "metadata": {},
   "outputs": [],
   "source": []
  },
  {
   "cell_type": "code",
   "execution_count": 2,
   "id": "0b7b848d",
   "metadata": {},
   "outputs": [
    {
     "data": {
      "text/html": [
       "<div>\n",
       "<style scoped>\n",
       "    .dataframe tbody tr th:only-of-type {\n",
       "        vertical-align: middle;\n",
       "    }\n",
       "\n",
       "    .dataframe tbody tr th {\n",
       "        vertical-align: top;\n",
       "    }\n",
       "\n",
       "    .dataframe thead th {\n",
       "        text-align: right;\n",
       "    }\n",
       "</style>\n",
       "<table border=\"1\" class=\"dataframe\">\n",
       "  <thead>\n",
       "    <tr style=\"text-align: right;\">\n",
       "      <th></th>\n",
       "      <th>age</th>\n",
       "      <th>policy_number</th>\n",
       "      <th>policy_bind_date</th>\n",
       "      <th>policy_state</th>\n",
       "      <th>policy_csl</th>\n",
       "      <th>policy_deductable</th>\n",
       "      <th>policy_annual_premium</th>\n",
       "      <th>umbrella_limit</th>\n",
       "      <th>insured_zip</th>\n",
       "      <th>insured_sex</th>\n",
       "      <th>...</th>\n",
       "      <th>police_report_available</th>\n",
       "      <th>total_claim_amount</th>\n",
       "      <th>injury_claim</th>\n",
       "      <th>property_claim</th>\n",
       "      <th>vehicle_claim</th>\n",
       "      <th>auto_make</th>\n",
       "      <th>auto_model</th>\n",
       "      <th>auto_year</th>\n",
       "      <th>fraud_reported</th>\n",
       "      <th>_c39</th>\n",
       "    </tr>\n",
       "    <tr>\n",
       "      <th>months_as_customer</th>\n",
       "      <th></th>\n",
       "      <th></th>\n",
       "      <th></th>\n",
       "      <th></th>\n",
       "      <th></th>\n",
       "      <th></th>\n",
       "      <th></th>\n",
       "      <th></th>\n",
       "      <th></th>\n",
       "      <th></th>\n",
       "      <th></th>\n",
       "      <th></th>\n",
       "      <th></th>\n",
       "      <th></th>\n",
       "      <th></th>\n",
       "      <th></th>\n",
       "      <th></th>\n",
       "      <th></th>\n",
       "      <th></th>\n",
       "      <th></th>\n",
       "      <th></th>\n",
       "    </tr>\n",
       "  </thead>\n",
       "  <tbody>\n",
       "    <tr>\n",
       "      <th>328</th>\n",
       "      <td>48</td>\n",
       "      <td>521585</td>\n",
       "      <td>17-10-2014</td>\n",
       "      <td>OH</td>\n",
       "      <td>250/500</td>\n",
       "      <td>1000</td>\n",
       "      <td>1406.91</td>\n",
       "      <td>0</td>\n",
       "      <td>466132</td>\n",
       "      <td>MALE</td>\n",
       "      <td>...</td>\n",
       "      <td>YES</td>\n",
       "      <td>71610</td>\n",
       "      <td>6510</td>\n",
       "      <td>13020</td>\n",
       "      <td>52080</td>\n",
       "      <td>Saab</td>\n",
       "      <td>92x</td>\n",
       "      <td>2004</td>\n",
       "      <td>Y</td>\n",
       "      <td>NaN</td>\n",
       "    </tr>\n",
       "    <tr>\n",
       "      <th>228</th>\n",
       "      <td>42</td>\n",
       "      <td>342868</td>\n",
       "      <td>27-06-2006</td>\n",
       "      <td>IN</td>\n",
       "      <td>250/500</td>\n",
       "      <td>2000</td>\n",
       "      <td>1197.22</td>\n",
       "      <td>5000000</td>\n",
       "      <td>468176</td>\n",
       "      <td>MALE</td>\n",
       "      <td>...</td>\n",
       "      <td>?</td>\n",
       "      <td>5070</td>\n",
       "      <td>780</td>\n",
       "      <td>780</td>\n",
       "      <td>3510</td>\n",
       "      <td>Mercedes</td>\n",
       "      <td>E400</td>\n",
       "      <td>2007</td>\n",
       "      <td>Y</td>\n",
       "      <td>NaN</td>\n",
       "    </tr>\n",
       "    <tr>\n",
       "      <th>134</th>\n",
       "      <td>29</td>\n",
       "      <td>687698</td>\n",
       "      <td>06-09-2000</td>\n",
       "      <td>OH</td>\n",
       "      <td>100/300</td>\n",
       "      <td>2000</td>\n",
       "      <td>1413.14</td>\n",
       "      <td>5000000</td>\n",
       "      <td>430632</td>\n",
       "      <td>FEMALE</td>\n",
       "      <td>...</td>\n",
       "      <td>NO</td>\n",
       "      <td>34650</td>\n",
       "      <td>7700</td>\n",
       "      <td>3850</td>\n",
       "      <td>23100</td>\n",
       "      <td>Dodge</td>\n",
       "      <td>RAM</td>\n",
       "      <td>2007</td>\n",
       "      <td>N</td>\n",
       "      <td>NaN</td>\n",
       "    </tr>\n",
       "    <tr>\n",
       "      <th>256</th>\n",
       "      <td>41</td>\n",
       "      <td>227811</td>\n",
       "      <td>25-05-1990</td>\n",
       "      <td>IL</td>\n",
       "      <td>250/500</td>\n",
       "      <td>2000</td>\n",
       "      <td>1415.74</td>\n",
       "      <td>6000000</td>\n",
       "      <td>608117</td>\n",
       "      <td>FEMALE</td>\n",
       "      <td>...</td>\n",
       "      <td>NO</td>\n",
       "      <td>63400</td>\n",
       "      <td>6340</td>\n",
       "      <td>6340</td>\n",
       "      <td>50720</td>\n",
       "      <td>Chevrolet</td>\n",
       "      <td>Tahoe</td>\n",
       "      <td>2014</td>\n",
       "      <td>Y</td>\n",
       "      <td>NaN</td>\n",
       "    </tr>\n",
       "    <tr>\n",
       "      <th>228</th>\n",
       "      <td>44</td>\n",
       "      <td>367455</td>\n",
       "      <td>06-06-2014</td>\n",
       "      <td>IL</td>\n",
       "      <td>500/1000</td>\n",
       "      <td>1000</td>\n",
       "      <td>1583.91</td>\n",
       "      <td>6000000</td>\n",
       "      <td>610706</td>\n",
       "      <td>MALE</td>\n",
       "      <td>...</td>\n",
       "      <td>NO</td>\n",
       "      <td>6500</td>\n",
       "      <td>1300</td>\n",
       "      <td>650</td>\n",
       "      <td>4550</td>\n",
       "      <td>Accura</td>\n",
       "      <td>RSX</td>\n",
       "      <td>2009</td>\n",
       "      <td>N</td>\n",
       "      <td>NaN</td>\n",
       "    </tr>\n",
       "  </tbody>\n",
       "</table>\n",
       "<p>5 rows × 39 columns</p>\n",
       "</div>"
      ],
      "text/plain": [
       "                    age  policy_number policy_bind_date policy_state  \\\n",
       "months_as_customer                                                     \n",
       "328                  48         521585       17-10-2014           OH   \n",
       "228                  42         342868       27-06-2006           IN   \n",
       "134                  29         687698       06-09-2000           OH   \n",
       "256                  41         227811       25-05-1990           IL   \n",
       "228                  44         367455       06-06-2014           IL   \n",
       "\n",
       "                   policy_csl  policy_deductable  policy_annual_premium  \\\n",
       "months_as_customer                                                        \n",
       "328                   250/500               1000                1406.91   \n",
       "228                   250/500               2000                1197.22   \n",
       "134                   100/300               2000                1413.14   \n",
       "256                   250/500               2000                1415.74   \n",
       "228                  500/1000               1000                1583.91   \n",
       "\n",
       "                    umbrella_limit  insured_zip insured_sex  ...  \\\n",
       "months_as_customer                                           ...   \n",
       "328                              0       466132        MALE  ...   \n",
       "228                        5000000       468176        MALE  ...   \n",
       "134                        5000000       430632      FEMALE  ...   \n",
       "256                        6000000       608117      FEMALE  ...   \n",
       "228                        6000000       610706        MALE  ...   \n",
       "\n",
       "                   police_report_available total_claim_amount injury_claim  \\\n",
       "months_as_customer                                                           \n",
       "328                                    YES              71610         6510   \n",
       "228                                      ?               5070          780   \n",
       "134                                     NO              34650         7700   \n",
       "256                                     NO              63400         6340   \n",
       "228                                     NO               6500         1300   \n",
       "\n",
       "                   property_claim  vehicle_claim  auto_make auto_model  \\\n",
       "months_as_customer                                                       \n",
       "328                         13020          52080       Saab        92x   \n",
       "228                           780           3510   Mercedes       E400   \n",
       "134                          3850          23100      Dodge        RAM   \n",
       "256                          6340          50720  Chevrolet      Tahoe   \n",
       "228                           650           4550     Accura        RSX   \n",
       "\n",
       "                   auto_year fraud_reported _c39  \n",
       "months_as_customer                                \n",
       "328                     2004              Y  NaN  \n",
       "228                     2007              Y  NaN  \n",
       "134                     2007              N  NaN  \n",
       "256                     2014              Y  NaN  \n",
       "228                     2009              N  NaN  \n",
       "\n",
       "[5 rows x 39 columns]"
      ]
     },
     "execution_count": 2,
     "metadata": {},
     "output_type": "execute_result"
    }
   ],
   "source": [
    "df=pd.read_csv('https://raw.githubusercontent.com/dsrscientist/Data-Science-ML-Capstone-Projects/master/Automobile_insurance_fraud.csv',index_col=0)\n",
    "df.head()"
   ]
  },
  {
   "cell_type": "code",
   "execution_count": 3,
   "id": "e4effe84",
   "metadata": {},
   "outputs": [
    {
     "data": {
      "text/html": [
       "<div>\n",
       "<style scoped>\n",
       "    .dataframe tbody tr th:only-of-type {\n",
       "        vertical-align: middle;\n",
       "    }\n",
       "\n",
       "    .dataframe tbody tr th {\n",
       "        vertical-align: top;\n",
       "    }\n",
       "\n",
       "    .dataframe thead th {\n",
       "        text-align: right;\n",
       "    }\n",
       "</style>\n",
       "<table border=\"1\" class=\"dataframe\">\n",
       "  <thead>\n",
       "    <tr style=\"text-align: right;\">\n",
       "      <th></th>\n",
       "      <th>age</th>\n",
       "      <th>policy_number</th>\n",
       "      <th>policy_deductable</th>\n",
       "      <th>policy_annual_premium</th>\n",
       "      <th>umbrella_limit</th>\n",
       "      <th>insured_zip</th>\n",
       "      <th>capital-gains</th>\n",
       "      <th>capital-loss</th>\n",
       "      <th>incident_hour_of_the_day</th>\n",
       "      <th>number_of_vehicles_involved</th>\n",
       "      <th>bodily_injuries</th>\n",
       "      <th>witnesses</th>\n",
       "      <th>total_claim_amount</th>\n",
       "      <th>injury_claim</th>\n",
       "      <th>property_claim</th>\n",
       "      <th>vehicle_claim</th>\n",
       "      <th>auto_year</th>\n",
       "      <th>_c39</th>\n",
       "    </tr>\n",
       "  </thead>\n",
       "  <tbody>\n",
       "    <tr>\n",
       "      <th>count</th>\n",
       "      <td>1000.000000</td>\n",
       "      <td>1000.000000</td>\n",
       "      <td>1000.000000</td>\n",
       "      <td>1000.000000</td>\n",
       "      <td>1.000000e+03</td>\n",
       "      <td>1000.000000</td>\n",
       "      <td>1000.000000</td>\n",
       "      <td>1000.000000</td>\n",
       "      <td>1000.000000</td>\n",
       "      <td>1000.00000</td>\n",
       "      <td>1000.000000</td>\n",
       "      <td>1000.000000</td>\n",
       "      <td>1000.00000</td>\n",
       "      <td>1000.000000</td>\n",
       "      <td>1000.000000</td>\n",
       "      <td>1000.000000</td>\n",
       "      <td>1000.000000</td>\n",
       "      <td>0.0</td>\n",
       "    </tr>\n",
       "    <tr>\n",
       "      <th>mean</th>\n",
       "      <td>38.948000</td>\n",
       "      <td>546238.648000</td>\n",
       "      <td>1136.000000</td>\n",
       "      <td>1256.406150</td>\n",
       "      <td>1.101000e+06</td>\n",
       "      <td>501214.488000</td>\n",
       "      <td>25126.100000</td>\n",
       "      <td>-26793.700000</td>\n",
       "      <td>11.644000</td>\n",
       "      <td>1.83900</td>\n",
       "      <td>0.992000</td>\n",
       "      <td>1.487000</td>\n",
       "      <td>52761.94000</td>\n",
       "      <td>7433.420000</td>\n",
       "      <td>7399.570000</td>\n",
       "      <td>37928.950000</td>\n",
       "      <td>2005.103000</td>\n",
       "      <td>NaN</td>\n",
       "    </tr>\n",
       "    <tr>\n",
       "      <th>std</th>\n",
       "      <td>9.140287</td>\n",
       "      <td>257063.005276</td>\n",
       "      <td>611.864673</td>\n",
       "      <td>244.167395</td>\n",
       "      <td>2.297407e+06</td>\n",
       "      <td>71701.610941</td>\n",
       "      <td>27872.187708</td>\n",
       "      <td>28104.096686</td>\n",
       "      <td>6.951373</td>\n",
       "      <td>1.01888</td>\n",
       "      <td>0.820127</td>\n",
       "      <td>1.111335</td>\n",
       "      <td>26401.53319</td>\n",
       "      <td>4880.951853</td>\n",
       "      <td>4824.726179</td>\n",
       "      <td>18886.252893</td>\n",
       "      <td>6.015861</td>\n",
       "      <td>NaN</td>\n",
       "    </tr>\n",
       "    <tr>\n",
       "      <th>min</th>\n",
       "      <td>19.000000</td>\n",
       "      <td>100804.000000</td>\n",
       "      <td>500.000000</td>\n",
       "      <td>433.330000</td>\n",
       "      <td>-1.000000e+06</td>\n",
       "      <td>430104.000000</td>\n",
       "      <td>0.000000</td>\n",
       "      <td>-111100.000000</td>\n",
       "      <td>0.000000</td>\n",
       "      <td>1.00000</td>\n",
       "      <td>0.000000</td>\n",
       "      <td>0.000000</td>\n",
       "      <td>100.00000</td>\n",
       "      <td>0.000000</td>\n",
       "      <td>0.000000</td>\n",
       "      <td>70.000000</td>\n",
       "      <td>1995.000000</td>\n",
       "      <td>NaN</td>\n",
       "    </tr>\n",
       "    <tr>\n",
       "      <th>25%</th>\n",
       "      <td>32.000000</td>\n",
       "      <td>335980.250000</td>\n",
       "      <td>500.000000</td>\n",
       "      <td>1089.607500</td>\n",
       "      <td>0.000000e+00</td>\n",
       "      <td>448404.500000</td>\n",
       "      <td>0.000000</td>\n",
       "      <td>-51500.000000</td>\n",
       "      <td>6.000000</td>\n",
       "      <td>1.00000</td>\n",
       "      <td>0.000000</td>\n",
       "      <td>1.000000</td>\n",
       "      <td>41812.50000</td>\n",
       "      <td>4295.000000</td>\n",
       "      <td>4445.000000</td>\n",
       "      <td>30292.500000</td>\n",
       "      <td>2000.000000</td>\n",
       "      <td>NaN</td>\n",
       "    </tr>\n",
       "    <tr>\n",
       "      <th>50%</th>\n",
       "      <td>38.000000</td>\n",
       "      <td>533135.000000</td>\n",
       "      <td>1000.000000</td>\n",
       "      <td>1257.200000</td>\n",
       "      <td>0.000000e+00</td>\n",
       "      <td>466445.500000</td>\n",
       "      <td>0.000000</td>\n",
       "      <td>-23250.000000</td>\n",
       "      <td>12.000000</td>\n",
       "      <td>1.00000</td>\n",
       "      <td>1.000000</td>\n",
       "      <td>1.000000</td>\n",
       "      <td>58055.00000</td>\n",
       "      <td>6775.000000</td>\n",
       "      <td>6750.000000</td>\n",
       "      <td>42100.000000</td>\n",
       "      <td>2005.000000</td>\n",
       "      <td>NaN</td>\n",
       "    </tr>\n",
       "    <tr>\n",
       "      <th>75%</th>\n",
       "      <td>44.000000</td>\n",
       "      <td>759099.750000</td>\n",
       "      <td>2000.000000</td>\n",
       "      <td>1415.695000</td>\n",
       "      <td>0.000000e+00</td>\n",
       "      <td>603251.000000</td>\n",
       "      <td>51025.000000</td>\n",
       "      <td>0.000000</td>\n",
       "      <td>17.000000</td>\n",
       "      <td>3.00000</td>\n",
       "      <td>2.000000</td>\n",
       "      <td>2.000000</td>\n",
       "      <td>70592.50000</td>\n",
       "      <td>11305.000000</td>\n",
       "      <td>10885.000000</td>\n",
       "      <td>50822.500000</td>\n",
       "      <td>2010.000000</td>\n",
       "      <td>NaN</td>\n",
       "    </tr>\n",
       "    <tr>\n",
       "      <th>max</th>\n",
       "      <td>64.000000</td>\n",
       "      <td>999435.000000</td>\n",
       "      <td>2000.000000</td>\n",
       "      <td>2047.590000</td>\n",
       "      <td>1.000000e+07</td>\n",
       "      <td>620962.000000</td>\n",
       "      <td>100500.000000</td>\n",
       "      <td>0.000000</td>\n",
       "      <td>23.000000</td>\n",
       "      <td>4.00000</td>\n",
       "      <td>2.000000</td>\n",
       "      <td>3.000000</td>\n",
       "      <td>114920.00000</td>\n",
       "      <td>21450.000000</td>\n",
       "      <td>23670.000000</td>\n",
       "      <td>79560.000000</td>\n",
       "      <td>2015.000000</td>\n",
       "      <td>NaN</td>\n",
       "    </tr>\n",
       "  </tbody>\n",
       "</table>\n",
       "</div>"
      ],
      "text/plain": [
       "               age  policy_number  policy_deductable  policy_annual_premium  \\\n",
       "count  1000.000000    1000.000000        1000.000000            1000.000000   \n",
       "mean     38.948000  546238.648000        1136.000000            1256.406150   \n",
       "std       9.140287  257063.005276         611.864673             244.167395   \n",
       "min      19.000000  100804.000000         500.000000             433.330000   \n",
       "25%      32.000000  335980.250000         500.000000            1089.607500   \n",
       "50%      38.000000  533135.000000        1000.000000            1257.200000   \n",
       "75%      44.000000  759099.750000        2000.000000            1415.695000   \n",
       "max      64.000000  999435.000000        2000.000000            2047.590000   \n",
       "\n",
       "       umbrella_limit    insured_zip  capital-gains   capital-loss  \\\n",
       "count    1.000000e+03    1000.000000    1000.000000    1000.000000   \n",
       "mean     1.101000e+06  501214.488000   25126.100000  -26793.700000   \n",
       "std      2.297407e+06   71701.610941   27872.187708   28104.096686   \n",
       "min     -1.000000e+06  430104.000000       0.000000 -111100.000000   \n",
       "25%      0.000000e+00  448404.500000       0.000000  -51500.000000   \n",
       "50%      0.000000e+00  466445.500000       0.000000  -23250.000000   \n",
       "75%      0.000000e+00  603251.000000   51025.000000       0.000000   \n",
       "max      1.000000e+07  620962.000000  100500.000000       0.000000   \n",
       "\n",
       "       incident_hour_of_the_day  number_of_vehicles_involved  bodily_injuries  \\\n",
       "count               1000.000000                   1000.00000      1000.000000   \n",
       "mean                  11.644000                      1.83900         0.992000   \n",
       "std                    6.951373                      1.01888         0.820127   \n",
       "min                    0.000000                      1.00000         0.000000   \n",
       "25%                    6.000000                      1.00000         0.000000   \n",
       "50%                   12.000000                      1.00000         1.000000   \n",
       "75%                   17.000000                      3.00000         2.000000   \n",
       "max                   23.000000                      4.00000         2.000000   \n",
       "\n",
       "         witnesses  total_claim_amount  injury_claim  property_claim  \\\n",
       "count  1000.000000          1000.00000   1000.000000     1000.000000   \n",
       "mean      1.487000         52761.94000   7433.420000     7399.570000   \n",
       "std       1.111335         26401.53319   4880.951853     4824.726179   \n",
       "min       0.000000           100.00000      0.000000        0.000000   \n",
       "25%       1.000000         41812.50000   4295.000000     4445.000000   \n",
       "50%       1.000000         58055.00000   6775.000000     6750.000000   \n",
       "75%       2.000000         70592.50000  11305.000000    10885.000000   \n",
       "max       3.000000        114920.00000  21450.000000    23670.000000   \n",
       "\n",
       "       vehicle_claim    auto_year  _c39  \n",
       "count    1000.000000  1000.000000   0.0  \n",
       "mean    37928.950000  2005.103000   NaN  \n",
       "std     18886.252893     6.015861   NaN  \n",
       "min        70.000000  1995.000000   NaN  \n",
       "25%     30292.500000  2000.000000   NaN  \n",
       "50%     42100.000000  2005.000000   NaN  \n",
       "75%     50822.500000  2010.000000   NaN  \n",
       "max     79560.000000  2015.000000   NaN  "
      ]
     },
     "execution_count": 3,
     "metadata": {},
     "output_type": "execute_result"
    }
   ],
   "source": [
    "df.describe()"
   ]
  },
  {
   "cell_type": "code",
   "execution_count": 4,
   "id": "4617579f",
   "metadata": {},
   "outputs": [
    {
     "name": "stdout",
     "output_type": "stream",
     "text": [
      "shape of the data - (1000, 39)\n",
      "<class 'pandas.core.frame.DataFrame'>\n",
      "Int64Index: 1000 entries, 328 to 456\n",
      "Data columns (total 39 columns):\n",
      " #   Column                       Non-Null Count  Dtype  \n",
      "---  ------                       --------------  -----  \n",
      " 0   age                          1000 non-null   int64  \n",
      " 1   policy_number                1000 non-null   int64  \n",
      " 2   policy_bind_date             1000 non-null   object \n",
      " 3   policy_state                 1000 non-null   object \n",
      " 4   policy_csl                   1000 non-null   object \n",
      " 5   policy_deductable            1000 non-null   int64  \n",
      " 6   policy_annual_premium        1000 non-null   float64\n",
      " 7   umbrella_limit               1000 non-null   int64  \n",
      " 8   insured_zip                  1000 non-null   int64  \n",
      " 9   insured_sex                  1000 non-null   object \n",
      " 10  insured_education_level      1000 non-null   object \n",
      " 11  insured_occupation           1000 non-null   object \n",
      " 12  insured_hobbies              1000 non-null   object \n",
      " 13  insured_relationship         1000 non-null   object \n",
      " 14  capital-gains                1000 non-null   int64  \n",
      " 15  capital-loss                 1000 non-null   int64  \n",
      " 16  incident_date                1000 non-null   object \n",
      " 17  incident_type                1000 non-null   object \n",
      " 18  collision_type               1000 non-null   object \n",
      " 19  incident_severity            1000 non-null   object \n",
      " 20  authorities_contacted        1000 non-null   object \n",
      " 21  incident_state               1000 non-null   object \n",
      " 22  incident_city                1000 non-null   object \n",
      " 23  incident_location            1000 non-null   object \n",
      " 24  incident_hour_of_the_day     1000 non-null   int64  \n",
      " 25  number_of_vehicles_involved  1000 non-null   int64  \n",
      " 26  property_damage              1000 non-null   object \n",
      " 27  bodily_injuries              1000 non-null   int64  \n",
      " 28  witnesses                    1000 non-null   int64  \n",
      " 29  police_report_available      1000 non-null   object \n",
      " 30  total_claim_amount           1000 non-null   int64  \n",
      " 31  injury_claim                 1000 non-null   int64  \n",
      " 32  property_claim               1000 non-null   int64  \n",
      " 33  vehicle_claim                1000 non-null   int64  \n",
      " 34  auto_make                    1000 non-null   object \n",
      " 35  auto_model                   1000 non-null   object \n",
      " 36  auto_year                    1000 non-null   int64  \n",
      " 37  fraud_reported               1000 non-null   object \n",
      " 38  _c39                         0 non-null      float64\n",
      "dtypes: float64(2), int64(16), object(21)\n",
      "memory usage: 312.5+ KB\n",
      "None\n"
     ]
    }
   ],
   "source": [
    "print('shape of the data -',df.shape)\n",
    "print(df.info())"
   ]
  },
  {
   "cell_type": "code",
   "execution_count": 5,
   "id": "d49037bb",
   "metadata": {},
   "outputs": [],
   "source": [
    "df=df.drop(columns=['_c39'])"
   ]
  },
  {
   "cell_type": "code",
   "execution_count": 6,
   "id": "90080759",
   "metadata": {},
   "outputs": [
    {
     "data": {
      "text/plain": [
       "(1000, 38)"
      ]
     },
     "execution_count": 6,
     "metadata": {},
     "output_type": "execute_result"
    }
   ],
   "source": [
    "df.shape"
   ]
  },
  {
   "cell_type": "code",
   "execution_count": 7,
   "id": "5384755b",
   "metadata": {},
   "outputs": [
    {
     "data": {
      "text/plain": [
       "01-01-2006    3\n",
       "28-04-1992    3\n",
       "05-08-1992    3\n",
       "14-12-1991    2\n",
       "09-08-2004    2\n",
       "             ..\n",
       "03-06-2014    1\n",
       "12-12-1998    1\n",
       "18-02-1999    1\n",
       "30-10-1997    1\n",
       "11-11-1996    1\n",
       "Name: policy_bind_date, Length: 951, dtype: int64"
      ]
     },
     "execution_count": 7,
     "metadata": {},
     "output_type": "execute_result"
    }
   ],
   "source": [
    "df.policy_bind_date.value_counts()"
   ]
  },
  {
   "cell_type": "code",
   "execution_count": 8,
   "id": "b2241565",
   "metadata": {},
   "outputs": [],
   "source": [
    "pd.set_option('display.max_rows',None)"
   ]
  },
  {
   "cell_type": "code",
   "execution_count": 9,
   "id": "a2679253",
   "metadata": {},
   "outputs": [],
   "source": [
    "df=df.drop(columns=['policy_bind_date'])"
   ]
  },
  {
   "cell_type": "code",
   "execution_count": 10,
   "id": "e2f0e80b",
   "metadata": {},
   "outputs": [
    {
     "name": "stdout",
     "output_type": "stream",
     "text": [
      "<class 'pandas.core.frame.DataFrame'>\n",
      "Int64Index: 1000 entries, 328 to 456\n",
      "Data columns (total 37 columns):\n",
      " #   Column                       Non-Null Count  Dtype  \n",
      "---  ------                       --------------  -----  \n",
      " 0   age                          1000 non-null   int64  \n",
      " 1   policy_number                1000 non-null   int64  \n",
      " 2   policy_state                 1000 non-null   object \n",
      " 3   policy_csl                   1000 non-null   object \n",
      " 4   policy_deductable            1000 non-null   int64  \n",
      " 5   policy_annual_premium        1000 non-null   float64\n",
      " 6   umbrella_limit               1000 non-null   int64  \n",
      " 7   insured_zip                  1000 non-null   int64  \n",
      " 8   insured_sex                  1000 non-null   object \n",
      " 9   insured_education_level      1000 non-null   object \n",
      " 10  insured_occupation           1000 non-null   object \n",
      " 11  insured_hobbies              1000 non-null   object \n",
      " 12  insured_relationship         1000 non-null   object \n",
      " 13  capital-gains                1000 non-null   int64  \n",
      " 14  capital-loss                 1000 non-null   int64  \n",
      " 15  incident_date                1000 non-null   object \n",
      " 16  incident_type                1000 non-null   object \n",
      " 17  collision_type               1000 non-null   object \n",
      " 18  incident_severity            1000 non-null   object \n",
      " 19  authorities_contacted        1000 non-null   object \n",
      " 20  incident_state               1000 non-null   object \n",
      " 21  incident_city                1000 non-null   object \n",
      " 22  incident_location            1000 non-null   object \n",
      " 23  incident_hour_of_the_day     1000 non-null   int64  \n",
      " 24  number_of_vehicles_involved  1000 non-null   int64  \n",
      " 25  property_damage              1000 non-null   object \n",
      " 26  bodily_injuries              1000 non-null   int64  \n",
      " 27  witnesses                    1000 non-null   int64  \n",
      " 28  police_report_available      1000 non-null   object \n",
      " 29  total_claim_amount           1000 non-null   int64  \n",
      " 30  injury_claim                 1000 non-null   int64  \n",
      " 31  property_claim               1000 non-null   int64  \n",
      " 32  vehicle_claim                1000 non-null   int64  \n",
      " 33  auto_make                    1000 non-null   object \n",
      " 34  auto_model                   1000 non-null   object \n",
      " 35  auto_year                    1000 non-null   int64  \n",
      " 36  fraud_reported               1000 non-null   object \n",
      "dtypes: float64(1), int64(16), object(20)\n",
      "memory usage: 296.9+ KB\n"
     ]
    }
   ],
   "source": [
    "df.info()"
   ]
  },
  {
   "cell_type": "code",
   "execution_count": 11,
   "id": "6a1f0c53",
   "metadata": {},
   "outputs": [
    {
     "data": {
      "text/plain": [
       "OH    352\n",
       "IL    338\n",
       "IN    310\n",
       "Name: policy_state, dtype: int64"
      ]
     },
     "execution_count": 11,
     "metadata": {},
     "output_type": "execute_result"
    }
   ],
   "source": [
    "df.policy_state.value_counts()"
   ]
  },
  {
   "cell_type": "code",
   "execution_count": 12,
   "id": "37f21174",
   "metadata": {},
   "outputs": [],
   "source": [
    "df1=lab_enc.fit_transform(df['policy_state'])\n",
    "df['policy_state']=df1"
   ]
  },
  {
   "cell_type": "code",
   "execution_count": 13,
   "id": "93860db1",
   "metadata": {},
   "outputs": [
    {
     "name": "stdout",
     "output_type": "stream",
     "text": [
      "<class 'pandas.core.frame.DataFrame'>\n",
      "Int64Index: 1000 entries, 328 to 456\n",
      "Data columns (total 37 columns):\n",
      " #   Column                       Non-Null Count  Dtype  \n",
      "---  ------                       --------------  -----  \n",
      " 0   age                          1000 non-null   int64  \n",
      " 1   policy_number                1000 non-null   int64  \n",
      " 2   policy_state                 1000 non-null   int32  \n",
      " 3   policy_csl                   1000 non-null   object \n",
      " 4   policy_deductable            1000 non-null   int64  \n",
      " 5   policy_annual_premium        1000 non-null   float64\n",
      " 6   umbrella_limit               1000 non-null   int64  \n",
      " 7   insured_zip                  1000 non-null   int64  \n",
      " 8   insured_sex                  1000 non-null   object \n",
      " 9   insured_education_level      1000 non-null   object \n",
      " 10  insured_occupation           1000 non-null   object \n",
      " 11  insured_hobbies              1000 non-null   object \n",
      " 12  insured_relationship         1000 non-null   object \n",
      " 13  capital-gains                1000 non-null   int64  \n",
      " 14  capital-loss                 1000 non-null   int64  \n",
      " 15  incident_date                1000 non-null   object \n",
      " 16  incident_type                1000 non-null   object \n",
      " 17  collision_type               1000 non-null   object \n",
      " 18  incident_severity            1000 non-null   object \n",
      " 19  authorities_contacted        1000 non-null   object \n",
      " 20  incident_state               1000 non-null   object \n",
      " 21  incident_city                1000 non-null   object \n",
      " 22  incident_location            1000 non-null   object \n",
      " 23  incident_hour_of_the_day     1000 non-null   int64  \n",
      " 24  number_of_vehicles_involved  1000 non-null   int64  \n",
      " 25  property_damage              1000 non-null   object \n",
      " 26  bodily_injuries              1000 non-null   int64  \n",
      " 27  witnesses                    1000 non-null   int64  \n",
      " 28  police_report_available      1000 non-null   object \n",
      " 29  total_claim_amount           1000 non-null   int64  \n",
      " 30  injury_claim                 1000 non-null   int64  \n",
      " 31  property_claim               1000 non-null   int64  \n",
      " 32  vehicle_claim                1000 non-null   int64  \n",
      " 33  auto_make                    1000 non-null   object \n",
      " 34  auto_model                   1000 non-null   object \n",
      " 35  auto_year                    1000 non-null   int64  \n",
      " 36  fraud_reported               1000 non-null   object \n",
      "dtypes: float64(1), int32(1), int64(16), object(19)\n",
      "memory usage: 293.0+ KB\n"
     ]
    }
   ],
   "source": [
    "df.info()"
   ]
  },
  {
   "cell_type": "code",
   "execution_count": 14,
   "id": "a14866b8",
   "metadata": {},
   "outputs": [
    {
     "data": {
      "text/plain": [
       "250/500     351\n",
       "100/300     349\n",
       "500/1000    300\n",
       "Name: policy_csl, dtype: int64"
      ]
     },
     "execution_count": 14,
     "metadata": {},
     "output_type": "execute_result"
    }
   ],
   "source": [
    "df.policy_csl.value_counts()"
   ]
  },
  {
   "cell_type": "code",
   "execution_count": 15,
   "id": "d2e650ff",
   "metadata": {},
   "outputs": [],
   "source": [
    "df1=lab_enc.fit_transform(df['policy_csl'])\n",
    "df['policy_csl']=df1"
   ]
  },
  {
   "cell_type": "code",
   "execution_count": null,
   "id": "74bc32bc",
   "metadata": {},
   "outputs": [],
   "source": []
  },
  {
   "cell_type": "code",
   "execution_count": 16,
   "id": "bb8ae804",
   "metadata": {},
   "outputs": [
    {
     "data": {
      "text/html": [
       "<div>\n",
       "<style scoped>\n",
       "    .dataframe tbody tr th:only-of-type {\n",
       "        vertical-align: middle;\n",
       "    }\n",
       "\n",
       "    .dataframe tbody tr th {\n",
       "        vertical-align: top;\n",
       "    }\n",
       "\n",
       "    .dataframe thead th {\n",
       "        text-align: right;\n",
       "    }\n",
       "</style>\n",
       "<table border=\"1\" class=\"dataframe\">\n",
       "  <thead>\n",
       "    <tr style=\"text-align: right;\">\n",
       "      <th></th>\n",
       "      <th>age</th>\n",
       "      <th>policy_number</th>\n",
       "      <th>policy_state</th>\n",
       "      <th>policy_csl</th>\n",
       "      <th>policy_deductable</th>\n",
       "      <th>policy_annual_premium</th>\n",
       "      <th>umbrella_limit</th>\n",
       "      <th>insured_zip</th>\n",
       "      <th>insured_sex</th>\n",
       "      <th>insured_education_level</th>\n",
       "      <th>...</th>\n",
       "      <th>witnesses</th>\n",
       "      <th>police_report_available</th>\n",
       "      <th>total_claim_amount</th>\n",
       "      <th>injury_claim</th>\n",
       "      <th>property_claim</th>\n",
       "      <th>vehicle_claim</th>\n",
       "      <th>auto_make</th>\n",
       "      <th>auto_model</th>\n",
       "      <th>auto_year</th>\n",
       "      <th>fraud_reported</th>\n",
       "    </tr>\n",
       "    <tr>\n",
       "      <th>months_as_customer</th>\n",
       "      <th></th>\n",
       "      <th></th>\n",
       "      <th></th>\n",
       "      <th></th>\n",
       "      <th></th>\n",
       "      <th></th>\n",
       "      <th></th>\n",
       "      <th></th>\n",
       "      <th></th>\n",
       "      <th></th>\n",
       "      <th></th>\n",
       "      <th></th>\n",
       "      <th></th>\n",
       "      <th></th>\n",
       "      <th></th>\n",
       "      <th></th>\n",
       "      <th></th>\n",
       "      <th></th>\n",
       "      <th></th>\n",
       "      <th></th>\n",
       "      <th></th>\n",
       "    </tr>\n",
       "  </thead>\n",
       "  <tbody>\n",
       "    <tr>\n",
       "      <th>328</th>\n",
       "      <td>48</td>\n",
       "      <td>521585</td>\n",
       "      <td>2</td>\n",
       "      <td>1</td>\n",
       "      <td>1000</td>\n",
       "      <td>1406.91</td>\n",
       "      <td>0</td>\n",
       "      <td>466132</td>\n",
       "      <td>MALE</td>\n",
       "      <td>MD</td>\n",
       "      <td>...</td>\n",
       "      <td>2</td>\n",
       "      <td>YES</td>\n",
       "      <td>71610</td>\n",
       "      <td>6510</td>\n",
       "      <td>13020</td>\n",
       "      <td>52080</td>\n",
       "      <td>Saab</td>\n",
       "      <td>92x</td>\n",
       "      <td>2004</td>\n",
       "      <td>Y</td>\n",
       "    </tr>\n",
       "    <tr>\n",
       "      <th>228</th>\n",
       "      <td>42</td>\n",
       "      <td>342868</td>\n",
       "      <td>1</td>\n",
       "      <td>1</td>\n",
       "      <td>2000</td>\n",
       "      <td>1197.22</td>\n",
       "      <td>5000000</td>\n",
       "      <td>468176</td>\n",
       "      <td>MALE</td>\n",
       "      <td>MD</td>\n",
       "      <td>...</td>\n",
       "      <td>0</td>\n",
       "      <td>?</td>\n",
       "      <td>5070</td>\n",
       "      <td>780</td>\n",
       "      <td>780</td>\n",
       "      <td>3510</td>\n",
       "      <td>Mercedes</td>\n",
       "      <td>E400</td>\n",
       "      <td>2007</td>\n",
       "      <td>Y</td>\n",
       "    </tr>\n",
       "    <tr>\n",
       "      <th>134</th>\n",
       "      <td>29</td>\n",
       "      <td>687698</td>\n",
       "      <td>2</td>\n",
       "      <td>0</td>\n",
       "      <td>2000</td>\n",
       "      <td>1413.14</td>\n",
       "      <td>5000000</td>\n",
       "      <td>430632</td>\n",
       "      <td>FEMALE</td>\n",
       "      <td>PhD</td>\n",
       "      <td>...</td>\n",
       "      <td>3</td>\n",
       "      <td>NO</td>\n",
       "      <td>34650</td>\n",
       "      <td>7700</td>\n",
       "      <td>3850</td>\n",
       "      <td>23100</td>\n",
       "      <td>Dodge</td>\n",
       "      <td>RAM</td>\n",
       "      <td>2007</td>\n",
       "      <td>N</td>\n",
       "    </tr>\n",
       "    <tr>\n",
       "      <th>256</th>\n",
       "      <td>41</td>\n",
       "      <td>227811</td>\n",
       "      <td>0</td>\n",
       "      <td>1</td>\n",
       "      <td>2000</td>\n",
       "      <td>1415.74</td>\n",
       "      <td>6000000</td>\n",
       "      <td>608117</td>\n",
       "      <td>FEMALE</td>\n",
       "      <td>PhD</td>\n",
       "      <td>...</td>\n",
       "      <td>2</td>\n",
       "      <td>NO</td>\n",
       "      <td>63400</td>\n",
       "      <td>6340</td>\n",
       "      <td>6340</td>\n",
       "      <td>50720</td>\n",
       "      <td>Chevrolet</td>\n",
       "      <td>Tahoe</td>\n",
       "      <td>2014</td>\n",
       "      <td>Y</td>\n",
       "    </tr>\n",
       "    <tr>\n",
       "      <th>228</th>\n",
       "      <td>44</td>\n",
       "      <td>367455</td>\n",
       "      <td>0</td>\n",
       "      <td>2</td>\n",
       "      <td>1000</td>\n",
       "      <td>1583.91</td>\n",
       "      <td>6000000</td>\n",
       "      <td>610706</td>\n",
       "      <td>MALE</td>\n",
       "      <td>Associate</td>\n",
       "      <td>...</td>\n",
       "      <td>1</td>\n",
       "      <td>NO</td>\n",
       "      <td>6500</td>\n",
       "      <td>1300</td>\n",
       "      <td>650</td>\n",
       "      <td>4550</td>\n",
       "      <td>Accura</td>\n",
       "      <td>RSX</td>\n",
       "      <td>2009</td>\n",
       "      <td>N</td>\n",
       "    </tr>\n",
       "  </tbody>\n",
       "</table>\n",
       "<p>5 rows × 37 columns</p>\n",
       "</div>"
      ],
      "text/plain": [
       "                    age  policy_number  policy_state  policy_csl  \\\n",
       "months_as_customer                                                 \n",
       "328                  48         521585             2           1   \n",
       "228                  42         342868             1           1   \n",
       "134                  29         687698             2           0   \n",
       "256                  41         227811             0           1   \n",
       "228                  44         367455             0           2   \n",
       "\n",
       "                    policy_deductable  policy_annual_premium  umbrella_limit  \\\n",
       "months_as_customer                                                             \n",
       "328                              1000                1406.91               0   \n",
       "228                              2000                1197.22         5000000   \n",
       "134                              2000                1413.14         5000000   \n",
       "256                              2000                1415.74         6000000   \n",
       "228                              1000                1583.91         6000000   \n",
       "\n",
       "                    insured_zip insured_sex insured_education_level  ...  \\\n",
       "months_as_customer                                                   ...   \n",
       "328                      466132        MALE                      MD  ...   \n",
       "228                      468176        MALE                      MD  ...   \n",
       "134                      430632      FEMALE                     PhD  ...   \n",
       "256                      608117      FEMALE                     PhD  ...   \n",
       "228                      610706        MALE               Associate  ...   \n",
       "\n",
       "                   witnesses police_report_available total_claim_amount  \\\n",
       "months_as_customer                                                        \n",
       "328                        2                     YES              71610   \n",
       "228                        0                       ?               5070   \n",
       "134                        3                      NO              34650   \n",
       "256                        2                      NO              63400   \n",
       "228                        1                      NO               6500   \n",
       "\n",
       "                    injury_claim  property_claim vehicle_claim  auto_make  \\\n",
       "months_as_customer                                                          \n",
       "328                         6510           13020         52080       Saab   \n",
       "228                          780             780          3510   Mercedes   \n",
       "134                         7700            3850         23100      Dodge   \n",
       "256                         6340            6340         50720  Chevrolet   \n",
       "228                         1300             650          4550     Accura   \n",
       "\n",
       "                   auto_model auto_year fraud_reported  \n",
       "months_as_customer                                      \n",
       "328                       92x      2004              Y  \n",
       "228                      E400      2007              Y  \n",
       "134                       RAM      2007              N  \n",
       "256                     Tahoe      2014              Y  \n",
       "228                       RSX      2009              N  \n",
       "\n",
       "[5 rows x 37 columns]"
      ]
     },
     "execution_count": 16,
     "metadata": {},
     "output_type": "execute_result"
    }
   ],
   "source": [
    "df.head()"
   ]
  },
  {
   "cell_type": "code",
   "execution_count": 17,
   "id": "ef770b40",
   "metadata": {},
   "outputs": [
    {
     "ename": "NameError",
     "evalue": "name 'insured_sex' is not defined",
     "output_type": "error",
     "traceback": [
      "\u001b[1;31m---------------------------------------------------------------------------\u001b[0m",
      "\u001b[1;31mNameError\u001b[0m                                 Traceback (most recent call last)",
      "\u001b[1;32mC:\\Users\\KAUSTU~1\\AppData\\Local\\Temp/ipykernel_13128/3592802297.py\u001b[0m in \u001b[0;36m<module>\u001b[1;34m\u001b[0m\n\u001b[1;32m----> 1\u001b[1;33m \u001b[0minsured_sex\u001b[0m\u001b[1;33m\u001b[0m\u001b[1;33m\u001b[0m\u001b[0m\n\u001b[0m",
      "\u001b[1;31mNameError\u001b[0m: name 'insured_sex' is not defined"
     ]
    }
   ],
   "source": [
    "insured_sex"
   ]
  },
  {
   "cell_type": "code",
   "execution_count": 55,
   "id": "fc021335",
   "metadata": {},
   "outputs": [],
   "source": [
    "df1=lab_enc.fit_transform(df['insured_sex'])\n",
    "df['insured_sex']=df1"
   ]
  },
  {
   "cell_type": "code",
   "execution_count": null,
   "id": "7f6ff3a8",
   "metadata": {},
   "outputs": [],
   "source": [
    "df.head()"
   ]
  },
  {
   "cell_type": "code",
   "execution_count": null,
   "id": "c596cb79",
   "metadata": {},
   "outputs": [],
   "source": [
    "df.insured_education_level.value_counts()"
   ]
  },
  {
   "cell_type": "code",
   "execution_count": 54,
   "id": "540073c3",
   "metadata": {},
   "outputs": [],
   "source": [
    "df1=lab_enc.fit_transform(df['insured_education_level'])\n",
    "df['insured_education_level']=df1"
   ]
  },
  {
   "cell_type": "code",
   "execution_count": 18,
   "id": "ea5ae596",
   "metadata": {},
   "outputs": [
    {
     "data": {
      "text/plain": [
       "machine-op-inspct    93\n",
       "prof-specialty       85\n",
       "tech-support         78\n",
       "sales                76\n",
       "exec-managerial      76\n",
       "craft-repair         74\n",
       "transport-moving     72\n",
       "other-service        71\n",
       "priv-house-serv      71\n",
       "armed-forces         69\n",
       "adm-clerical         65\n",
       "protective-serv      63\n",
       "handlers-cleaners    54\n",
       "farming-fishing      53\n",
       "Name: insured_occupation, dtype: int64"
      ]
     },
     "execution_count": 18,
     "metadata": {},
     "output_type": "execute_result"
    }
   ],
   "source": [
    "df.insured_occupation.value_counts()"
   ]
  },
  {
   "cell_type": "code",
   "execution_count": 19,
   "id": "9aff1f3f",
   "metadata": {},
   "outputs": [],
   "source": [
    "df1=lab_enc.fit_transform(df['insured_occupation'])\n",
    "df['insured_occupation']=df1"
   ]
  },
  {
   "cell_type": "code",
   "execution_count": 20,
   "id": "ee4c9266",
   "metadata": {},
   "outputs": [
    {
     "data": {
      "text/plain": [
       "reading           64\n",
       "exercise          57\n",
       "paintball         57\n",
       "bungie-jumping    56\n",
       "movies            55\n",
       "golf              55\n",
       "camping           55\n",
       "kayaking          54\n",
       "yachting          53\n",
       "hiking            52\n",
       "video-games       50\n",
       "skydiving         49\n",
       "base-jumping      49\n",
       "board-games       48\n",
       "polo              47\n",
       "chess             46\n",
       "dancing           43\n",
       "sleeping          41\n",
       "cross-fit         35\n",
       "basketball        34\n",
       "Name: insured_hobbies, dtype: int64"
      ]
     },
     "execution_count": 20,
     "metadata": {},
     "output_type": "execute_result"
    }
   ],
   "source": [
    "df.insured_hobbies.value_counts()"
   ]
  },
  {
   "cell_type": "code",
   "execution_count": null,
   "id": "ed12114d",
   "metadata": {},
   "outputs": [],
   "source": []
  },
  {
   "cell_type": "code",
   "execution_count": 21,
   "id": "6239f4d5",
   "metadata": {},
   "outputs": [],
   "source": [
    "df1=lab_enc.fit_transform(df['insured_hobbies'])\n",
    "df['insured_hobbies']=df1"
   ]
  },
  {
   "cell_type": "code",
   "execution_count": 22,
   "id": "f02e9de3",
   "metadata": {},
   "outputs": [
    {
     "data": {
      "text/plain": [
       "own-child         183\n",
       "other-relative    177\n",
       "not-in-family     174\n",
       "husband           170\n",
       "wife              155\n",
       "unmarried         141\n",
       "Name: insured_relationship, dtype: int64"
      ]
     },
     "execution_count": 22,
     "metadata": {},
     "output_type": "execute_result"
    }
   ],
   "source": [
    "df.insured_relationship.value_counts()"
   ]
  },
  {
   "cell_type": "code",
   "execution_count": 23,
   "id": "2d735ec9",
   "metadata": {},
   "outputs": [],
   "source": [
    "df1=lab_enc.fit_transform(df['insured_relationship'])\n",
    "df['insured_relationship']=df1"
   ]
  },
  {
   "cell_type": "code",
   "execution_count": 24,
   "id": "5051cfa3",
   "metadata": {},
   "outputs": [],
   "source": [
    "df=df.drop(columns=['incident_date'])"
   ]
  },
  {
   "cell_type": "code",
   "execution_count": 25,
   "id": "7cbe3252",
   "metadata": {},
   "outputs": [
    {
     "data": {
      "text/plain": [
       "Multi-vehicle Collision     419\n",
       "Single Vehicle Collision    403\n",
       "Vehicle Theft                94\n",
       "Parked Car                   84\n",
       "Name: incident_type, dtype: int64"
      ]
     },
     "execution_count": 25,
     "metadata": {},
     "output_type": "execute_result"
    }
   ],
   "source": [
    "df.incident_type.value_counts()"
   ]
  },
  {
   "cell_type": "code",
   "execution_count": 26,
   "id": "9f3623ad",
   "metadata": {},
   "outputs": [],
   "source": [
    "df1=lab_enc.fit_transform(df['incident_type'])\n",
    "df['incident_type']=df1"
   ]
  },
  {
   "cell_type": "code",
   "execution_count": 27,
   "id": "6a1ddba4",
   "metadata": {},
   "outputs": [
    {
     "data": {
      "text/plain": [
       "Rear Collision     292\n",
       "Side Collision     276\n",
       "Front Collision    254\n",
       "?                  178\n",
       "Name: collision_type, dtype: int64"
      ]
     },
     "execution_count": 27,
     "metadata": {},
     "output_type": "execute_result"
    }
   ],
   "source": [
    "df.collision_type.value_counts()"
   ]
  },
  {
   "cell_type": "code",
   "execution_count": 28,
   "id": "975a9bb9",
   "metadata": {},
   "outputs": [],
   "source": [
    "df1=lab_enc.fit_transform(df['collision_type'])\n",
    "df['collision_type']=df1"
   ]
  },
  {
   "cell_type": "code",
   "execution_count": 29,
   "id": "b2f646c9",
   "metadata": {},
   "outputs": [
    {
     "name": "stdout",
     "output_type": "stream",
     "text": [
      "<class 'pandas.core.frame.DataFrame'>\n",
      "Int64Index: 1000 entries, 328 to 456\n",
      "Data columns (total 36 columns):\n",
      " #   Column                       Non-Null Count  Dtype  \n",
      "---  ------                       --------------  -----  \n",
      " 0   age                          1000 non-null   int64  \n",
      " 1   policy_number                1000 non-null   int64  \n",
      " 2   policy_state                 1000 non-null   int32  \n",
      " 3   policy_csl                   1000 non-null   int32  \n",
      " 4   policy_deductable            1000 non-null   int64  \n",
      " 5   policy_annual_premium        1000 non-null   float64\n",
      " 6   umbrella_limit               1000 non-null   int64  \n",
      " 7   insured_zip                  1000 non-null   int64  \n",
      " 8   insured_sex                  1000 non-null   object \n",
      " 9   insured_education_level      1000 non-null   object \n",
      " 10  insured_occupation           1000 non-null   int32  \n",
      " 11  insured_hobbies              1000 non-null   int32  \n",
      " 12  insured_relationship         1000 non-null   int32  \n",
      " 13  capital-gains                1000 non-null   int64  \n",
      " 14  capital-loss                 1000 non-null   int64  \n",
      " 15  incident_type                1000 non-null   int32  \n",
      " 16  collision_type               1000 non-null   int32  \n",
      " 17  incident_severity            1000 non-null   object \n",
      " 18  authorities_contacted        1000 non-null   object \n",
      " 19  incident_state               1000 non-null   object \n",
      " 20  incident_city                1000 non-null   object \n",
      " 21  incident_location            1000 non-null   object \n",
      " 22  incident_hour_of_the_day     1000 non-null   int64  \n",
      " 23  number_of_vehicles_involved  1000 non-null   int64  \n",
      " 24  property_damage              1000 non-null   object \n",
      " 25  bodily_injuries              1000 non-null   int64  \n",
      " 26  witnesses                    1000 non-null   int64  \n",
      " 27  police_report_available      1000 non-null   object \n",
      " 28  total_claim_amount           1000 non-null   int64  \n",
      " 29  injury_claim                 1000 non-null   int64  \n",
      " 30  property_claim               1000 non-null   int64  \n",
      " 31  vehicle_claim                1000 non-null   int64  \n",
      " 32  auto_make                    1000 non-null   object \n",
      " 33  auto_model                   1000 non-null   object \n",
      " 34  auto_year                    1000 non-null   int64  \n",
      " 35  fraud_reported               1000 non-null   object \n",
      "dtypes: float64(1), int32(7), int64(16), object(12)\n",
      "memory usage: 261.7+ KB\n"
     ]
    }
   ],
   "source": [
    "df.info()"
   ]
  },
  {
   "cell_type": "code",
   "execution_count": 30,
   "id": "e2138b50",
   "metadata": {},
   "outputs": [
    {
     "data": {
      "text/plain": [
       "FEMALE    537\n",
       "MALE      463\n",
       "Name: insured_sex, dtype: int64"
      ]
     },
     "execution_count": 30,
     "metadata": {},
     "output_type": "execute_result"
    }
   ],
   "source": [
    "df.insured_sex.value_counts()"
   ]
  },
  {
   "cell_type": "code",
   "execution_count": 31,
   "id": "16ff5aba",
   "metadata": {},
   "outputs": [],
   "source": [
    "df1=lab_enc.fit_transform(df['insured_sex'])\n",
    "df['insured_sex']=df1"
   ]
  },
  {
   "cell_type": "code",
   "execution_count": 32,
   "id": "c2b2a8b9",
   "metadata": {},
   "outputs": [
    {
     "data": {
      "text/plain": [
       "Minor Damage      354\n",
       "Total Loss        280\n",
       "Major Damage      276\n",
       "Trivial Damage     90\n",
       "Name: incident_severity, dtype: int64"
      ]
     },
     "execution_count": 32,
     "metadata": {},
     "output_type": "execute_result"
    }
   ],
   "source": [
    "df.incident_severity.value_counts()"
   ]
  },
  {
   "cell_type": "code",
   "execution_count": 33,
   "id": "44e9eaf9",
   "metadata": {},
   "outputs": [],
   "source": [
    "df1=lab_enc.fit_transform(df['incident_severity'])\n",
    "df['incident_severity']=df1"
   ]
  },
  {
   "cell_type": "code",
   "execution_count": 34,
   "id": "7f26fa72",
   "metadata": {},
   "outputs": [
    {
     "data": {
      "text/plain": [
       "Police       292\n",
       "Fire         223\n",
       "Other        198\n",
       "Ambulance    196\n",
       "None          91\n",
       "Name: authorities_contacted, dtype: int64"
      ]
     },
     "execution_count": 34,
     "metadata": {},
     "output_type": "execute_result"
    }
   ],
   "source": [
    "df.authorities_contacted.value_counts()"
   ]
  },
  {
   "cell_type": "code",
   "execution_count": 35,
   "id": "8c44264d",
   "metadata": {},
   "outputs": [],
   "source": [
    "df1=lab_enc.fit_transform(df['authorities_contacted'])\n",
    "df['authorities_contacted']=df1"
   ]
  },
  {
   "cell_type": "code",
   "execution_count": 36,
   "id": "6ef13194",
   "metadata": {},
   "outputs": [
    {
     "data": {
      "text/plain": [
       "NY    262\n",
       "SC    248\n",
       "WV    217\n",
       "VA    110\n",
       "NC    110\n",
       "PA     30\n",
       "OH     23\n",
       "Name: incident_state, dtype: int64"
      ]
     },
     "execution_count": 36,
     "metadata": {},
     "output_type": "execute_result"
    }
   ],
   "source": [
    "df.incident_state.value_counts()"
   ]
  },
  {
   "cell_type": "code",
   "execution_count": 37,
   "id": "3371bfd6",
   "metadata": {},
   "outputs": [],
   "source": [
    "df1=lab_enc.fit_transform(df['incident_state'])\n",
    "df['incident_state']=df1"
   ]
  },
  {
   "cell_type": "code",
   "execution_count": 38,
   "id": "643bd6a3",
   "metadata": {},
   "outputs": [
    {
     "name": "stdout",
     "output_type": "stream",
     "text": [
      "<class 'pandas.core.frame.DataFrame'>\n",
      "Int64Index: 1000 entries, 328 to 456\n",
      "Data columns (total 36 columns):\n",
      " #   Column                       Non-Null Count  Dtype  \n",
      "---  ------                       --------------  -----  \n",
      " 0   age                          1000 non-null   int64  \n",
      " 1   policy_number                1000 non-null   int64  \n",
      " 2   policy_state                 1000 non-null   int32  \n",
      " 3   policy_csl                   1000 non-null   int32  \n",
      " 4   policy_deductable            1000 non-null   int64  \n",
      " 5   policy_annual_premium        1000 non-null   float64\n",
      " 6   umbrella_limit               1000 non-null   int64  \n",
      " 7   insured_zip                  1000 non-null   int64  \n",
      " 8   insured_sex                  1000 non-null   int32  \n",
      " 9   insured_education_level      1000 non-null   object \n",
      " 10  insured_occupation           1000 non-null   int32  \n",
      " 11  insured_hobbies              1000 non-null   int32  \n",
      " 12  insured_relationship         1000 non-null   int32  \n",
      " 13  capital-gains                1000 non-null   int64  \n",
      " 14  capital-loss                 1000 non-null   int64  \n",
      " 15  incident_type                1000 non-null   int32  \n",
      " 16  collision_type               1000 non-null   int32  \n",
      " 17  incident_severity            1000 non-null   int32  \n",
      " 18  authorities_contacted        1000 non-null   int32  \n",
      " 19  incident_state               1000 non-null   int32  \n",
      " 20  incident_city                1000 non-null   object \n",
      " 21  incident_location            1000 non-null   object \n",
      " 22  incident_hour_of_the_day     1000 non-null   int64  \n",
      " 23  number_of_vehicles_involved  1000 non-null   int64  \n",
      " 24  property_damage              1000 non-null   object \n",
      " 25  bodily_injuries              1000 non-null   int64  \n",
      " 26  witnesses                    1000 non-null   int64  \n",
      " 27  police_report_available      1000 non-null   object \n",
      " 28  total_claim_amount           1000 non-null   int64  \n",
      " 29  injury_claim                 1000 non-null   int64  \n",
      " 30  property_claim               1000 non-null   int64  \n",
      " 31  vehicle_claim                1000 non-null   int64  \n",
      " 32  auto_make                    1000 non-null   object \n",
      " 33  auto_model                   1000 non-null   object \n",
      " 34  auto_year                    1000 non-null   int64  \n",
      " 35  fraud_reported               1000 non-null   object \n",
      "dtypes: float64(1), int32(11), int64(16), object(8)\n",
      "memory usage: 246.1+ KB\n"
     ]
    }
   ],
   "source": [
    "df.info()"
   ]
  },
  {
   "cell_type": "code",
   "execution_count": 39,
   "id": "97b11743",
   "metadata": {},
   "outputs": [],
   "source": [
    "df1=lab_enc.fit_transform(df['incident_city'])\n",
    "df['incident_city']=df1"
   ]
  },
  {
   "cell_type": "code",
   "execution_count": 40,
   "id": "273ded32",
   "metadata": {},
   "outputs": [],
   "source": [
    "df1=lab_enc.fit_transform(df['incident_location'])\n",
    "df['incident_location']=df1"
   ]
  },
  {
   "cell_type": "code",
   "execution_count": 41,
   "id": "e0609589",
   "metadata": {},
   "outputs": [],
   "source": [
    "df1=lab_enc.fit_transform(df['property_damage'])\n",
    "df['property_damage']=df1"
   ]
  },
  {
   "cell_type": "code",
   "execution_count": 42,
   "id": "28c4dc7f",
   "metadata": {},
   "outputs": [],
   "source": [
    "df1=lab_enc.fit_transform(df['police_report_available'])\n",
    "df['police_report_available']=df1"
   ]
  },
  {
   "cell_type": "code",
   "execution_count": 43,
   "id": "c8b08128",
   "metadata": {},
   "outputs": [],
   "source": [
    "df1=lab_enc.fit_transform(df['auto_make'])\n",
    "df['auto_make']=df1"
   ]
  },
  {
   "cell_type": "code",
   "execution_count": 44,
   "id": "e74291c9",
   "metadata": {},
   "outputs": [],
   "source": [
    "df1=lab_enc.fit_transform(df['auto_model'])\n",
    "df['auto_model']=df1"
   ]
  },
  {
   "cell_type": "code",
   "execution_count": 45,
   "id": "0b09c01c",
   "metadata": {},
   "outputs": [],
   "source": [
    "df1=lab_enc.fit_transform(df['fraud_reported'])\n",
    "df['fraud_reported']=df1"
   ]
  },
  {
   "cell_type": "code",
   "execution_count": 57,
   "id": "06d69a53",
   "metadata": {},
   "outputs": [
    {
     "name": "stdout",
     "output_type": "stream",
     "text": [
      "<class 'pandas.core.frame.DataFrame'>\n",
      "Int64Index: 1000 entries, 328 to 456\n",
      "Data columns (total 36 columns):\n",
      " #   Column                       Non-Null Count  Dtype  \n",
      "---  ------                       --------------  -----  \n",
      " 0   age                          1000 non-null   int64  \n",
      " 1   policy_number                1000 non-null   int64  \n",
      " 2   policy_state                 1000 non-null   int32  \n",
      " 3   policy_csl                   1000 non-null   int32  \n",
      " 4   policy_deductable            1000 non-null   int64  \n",
      " 5   policy_annual_premium        1000 non-null   float64\n",
      " 6   umbrella_limit               1000 non-null   int64  \n",
      " 7   insured_zip                  1000 non-null   int64  \n",
      " 8   insured_sex                  1000 non-null   int64  \n",
      " 9   insured_education_level      1000 non-null   int32  \n",
      " 10  insured_occupation           1000 non-null   int32  \n",
      " 11  insured_hobbies              1000 non-null   int32  \n",
      " 12  insured_relationship         1000 non-null   int32  \n",
      " 13  capital-gains                1000 non-null   int64  \n",
      " 14  capital-loss                 1000 non-null   int64  \n",
      " 15  incident_type                1000 non-null   int32  \n",
      " 16  collision_type               1000 non-null   int32  \n",
      " 17  incident_severity            1000 non-null   int32  \n",
      " 18  authorities_contacted        1000 non-null   int32  \n",
      " 19  incident_state               1000 non-null   int32  \n",
      " 20  incident_city                1000 non-null   int32  \n",
      " 21  incident_location            1000 non-null   int32  \n",
      " 22  incident_hour_of_the_day     1000 non-null   int64  \n",
      " 23  number_of_vehicles_involved  1000 non-null   int64  \n",
      " 24  property_damage              1000 non-null   int32  \n",
      " 25  bodily_injuries              1000 non-null   int64  \n",
      " 26  witnesses                    1000 non-null   int64  \n",
      " 27  police_report_available      1000 non-null   int32  \n",
      " 28  total_claim_amount           1000 non-null   int64  \n",
      " 29  injury_claim                 1000 non-null   int64  \n",
      " 30  property_claim               1000 non-null   int64  \n",
      " 31  vehicle_claim                1000 non-null   int64  \n",
      " 32  auto_make                    1000 non-null   int32  \n",
      " 33  auto_model                   1000 non-null   int32  \n",
      " 34  auto_year                    1000 non-null   int64  \n",
      " 35  fraud_reported               1000 non-null   int32  \n",
      "dtypes: float64(1), int32(18), int64(17)\n",
      "memory usage: 218.8 KB\n"
     ]
    }
   ],
   "source": [
    "df.info()"
   ]
  },
  {
   "cell_type": "code",
   "execution_count": 58,
   "id": "e4b85991",
   "metadata": {},
   "outputs": [
    {
     "data": {
      "text/plain": [
       "0    753\n",
       "1    247\n",
       "Name: fraud_reported, dtype: int64"
      ]
     },
     "execution_count": 58,
     "metadata": {},
     "output_type": "execute_result"
    }
   ],
   "source": [
    "df.fraud_reported.value_counts()"
   ]
  },
  {
   "cell_type": "code",
   "execution_count": 59,
   "id": "998eb4e6",
   "metadata": {},
   "outputs": [],
   "source": [
    "from sklearn.feature_selection import SelectKBest, f_classif"
   ]
  },
  {
   "cell_type": "code",
   "execution_count": 60,
   "id": "2a50981e",
   "metadata": {},
   "outputs": [],
   "source": [
    "df['fraud_reported']=df['fraud_reported'].replace({'Y':1,'N':0})"
   ]
  },
  {
   "cell_type": "code",
   "execution_count": 61,
   "id": "6564b973",
   "metadata": {},
   "outputs": [],
   "source": [
    "X=df.drop('fraud_reported',axis=1)\n",
    "y=df['fraud_reported']"
   ]
  },
  {
   "cell_type": "code",
   "execution_count": 62,
   "id": "77130859",
   "metadata": {},
   "outputs": [
    {
     "name": "stdout",
     "output_type": "stream",
     "text": [
      "                  Features_Name       Score\n",
      "17            incident_severity  196.960603\n",
      "31                vehicle_claim   29.718214\n",
      "28           total_claim_amount   27.463776\n",
      "30               property_claim   19.327729\n",
      "16               collision_type   12.252860\n",
      "29                 injury_claim    8.328776\n",
      "6                umbrella_limit    3.441452\n",
      "23  number_of_vehicles_involved    2.689100\n",
      "19               incident_state    2.644427\n"
     ]
    }
   ],
   "source": [
    "best_features=SelectKBest(score_func=f_classif, k=9)\n",
    "fit=best_features.fit(X,y)\n",
    "\n",
    "df_scores=pd.DataFrame(fit.scores_)#as we kknow this will be done through ANOVA , taht score I am going to get\n",
    "\n",
    "df_columns=pd.DataFrame(X.columns)\n",
    "\n",
    "feature_scores=pd.concat([df_columns,df_scores],axis=1)\n",
    "\n",
    "feature_scores.columns=['Features_Name','Score']#name output columns\n",
    "\n",
    "print(feature_scores.nlargest(9,'Score'))"
   ]
  },
  {
   "cell_type": "code",
   "execution_count": 63,
   "id": "1e4c9366",
   "metadata": {},
   "outputs": [],
   "source": [
    "new_X=df[['incident_severity','vehicle_claim','total_claim_amount','property_claim','collision_type',\n",
    "         'injury_claim','umbrella_limit','number_of_vehicles_involved','incident_state']]"
   ]
  },
  {
   "cell_type": "code",
   "execution_count": 64,
   "id": "d3f98a8c",
   "metadata": {},
   "outputs": [],
   "source": [
    "scalar=StandardScaler()\n",
    "X_scalar=scalar.fit_transform(new_X)"
   ]
  },
  {
   "cell_type": "code",
   "execution_count": 65,
   "id": "3b347b90",
   "metadata": {},
   "outputs": [
    {
     "name": "stdout",
     "output_type": "stream",
     "text": [
      "Knn Training time 0.0020003318786621094\n",
      "Knn Test time 0.01600360870361328\n"
     ]
    }
   ],
   "source": [
    "from time import time\n",
    "\n",
    "x_train,x_test,y_train,y_test=train_test_split(X_scalar,y,test_size=0.25, random_state=355)\n",
    "\n",
    "knn=KNeighborsClassifier()\n",
    "\n",
    "start=time()\n",
    "knn.fit(x_train,y_train)\n",
    "print(\"Knn Training time\",(time()-start))\n",
    "\n",
    "start=time()\n",
    "y_pred=knn.predict(x_test)\n",
    "print(\"Knn Test time\",(time()-start))"
   ]
  },
  {
   "cell_type": "code",
   "execution_count": 66,
   "id": "532eb447",
   "metadata": {},
   "outputs": [
    {
     "data": {
      "text/plain": [
       "array([[167,  15],\n",
       "       [ 54,  14]], dtype=int64)"
      ]
     },
     "execution_count": 66,
     "metadata": {},
     "output_type": "execute_result"
    }
   ],
   "source": [
    "cfm=confusion_matrix(y_test,y_pred)\n",
    "cfm"
   ]
  },
  {
   "cell_type": "code",
   "execution_count": 67,
   "id": "307a7a16",
   "metadata": {},
   "outputs": [
    {
     "name": "stdout",
     "output_type": "stream",
     "text": [
      "              precision    recall  f1-score   support\n",
      "\n",
      "           0       0.76      0.92      0.83       182\n",
      "           1       0.48      0.21      0.29        68\n",
      "\n",
      "    accuracy                           0.72       250\n",
      "   macro avg       0.62      0.56      0.56       250\n",
      "weighted avg       0.68      0.72      0.68       250\n",
      "\n"
     ]
    }
   ],
   "source": [
    "print(classification_report(y_test,y_pred,digits=2))"
   ]
  },
  {
   "cell_type": "code",
   "execution_count": 68,
   "id": "f5f9128e",
   "metadata": {},
   "outputs": [
    {
     "data": {
      "text/plain": [
       "KFold(n_splits=3, random_state=None, shuffle=True)"
      ]
     },
     "execution_count": 68,
     "metadata": {},
     "output_type": "execute_result"
    }
   ],
   "source": [
    "from sklearn.model_selection import KFold,cross_val_score\n",
    "\n",
    "k_f=KFold(n_splits=3,shuffle=True)\n",
    "\n",
    "k_f"
   ]
  },
  {
   "cell_type": "code",
   "execution_count": 69,
   "id": "8e819449",
   "metadata": {},
   "outputs": [
    {
     "name": "stdout",
     "output_type": "stream",
     "text": [
      "train [2 4 5 7 8 9] test [0 1 3 6]\n",
      "train [0 1 3 5 6 8 9] test [2 4 7]\n",
      "train [0 1 2 3 4 6 7] test [5 8 9]\n"
     ]
    }
   ],
   "source": [
    "for train,test in k_f.split([1,2,3,4,5,6,7,8,9,10]):\n",
    "    print('train',train,'test',test)"
   ]
  },
  {
   "cell_type": "code",
   "execution_count": 70,
   "id": "bedbab89",
   "metadata": {},
   "outputs": [
    {
     "data": {
      "text/plain": [
       "array([0.79, 0.77, 0.74, 0.8 , 0.71, 0.73, 0.72, 0.8 , 0.78, 0.75])"
      ]
     },
     "execution_count": 70,
     "metadata": {},
     "output_type": "execute_result"
    }
   ],
   "source": [
    "cross_val_score(knn,X_scalar,y,cv=10)"
   ]
  },
  {
   "cell_type": "code",
   "execution_count": 71,
   "id": "2b6d23bb",
   "metadata": {},
   "outputs": [
    {
     "data": {
      "text/plain": [
       "0.7630000000000001"
      ]
     },
     "execution_count": 71,
     "metadata": {},
     "output_type": "execute_result"
    }
   ],
   "source": [
    "cross_val_score(KNeighborsClassifier(),X_scalar,y,cv=5).mean()"
   ]
  },
  {
   "cell_type": "code",
   "execution_count": 72,
   "id": "1e8b2793",
   "metadata": {},
   "outputs": [],
   "source": [
    "from sklearn.model_selection import GridSearchCV"
   ]
  },
  {
   "cell_type": "code",
   "execution_count": 73,
   "id": "ec929022",
   "metadata": {},
   "outputs": [],
   "source": [
    "param_grid={'algorithm':['kd_tree','brute'],\n",
    "            'leaf_size':[3,5,6,7,8],\n",
    "            'n_neighbors':[3,5,7,9,11,13]\n",
    "}"
   ]
  },
  {
   "cell_type": "code",
   "execution_count": 74,
   "id": "28eb7a34",
   "metadata": {},
   "outputs": [],
   "source": [
    "gridsearch=GridSearchCV(estimator=knn,param_grid=param_grid)"
   ]
  },
  {
   "cell_type": "code",
   "execution_count": 75,
   "id": "a436f482",
   "metadata": {},
   "outputs": [
    {
     "data": {
      "text/plain": [
       "GridSearchCV(estimator=KNeighborsClassifier(),\n",
       "             param_grid={'algorithm': ['kd_tree', 'brute'],\n",
       "                         'leaf_size': [3, 5, 6, 7, 8],\n",
       "                         'n_neighbors': [3, 5, 7, 9, 11, 13]})"
      ]
     },
     "execution_count": 75,
     "metadata": {},
     "output_type": "execute_result"
    }
   ],
   "source": [
    "gridsearch.fit(x_train,y_train)"
   ]
  },
  {
   "cell_type": "code",
   "execution_count": 75,
   "id": "8361db6f",
   "metadata": {},
   "outputs": [
    {
     "data": {
      "text/plain": [
       "{'algorithm': 'kd_tree', 'leaf_size': 3, 'n_neighbors': 13}"
      ]
     },
     "execution_count": 75,
     "metadata": {},
     "output_type": "execute_result"
    }
   ],
   "source": [
    "gridsearch.best_params_"
   ]
  },
  {
   "cell_type": "code",
   "execution_count": 76,
   "id": "90daa015",
   "metadata": {},
   "outputs": [],
   "source": [
    "knn = KNeighborsClassifier(algorithm ='kd_tree',leaf_size=3,n_neighbors=13)"
   ]
  },
  {
   "cell_type": "code",
   "execution_count": 77,
   "id": "7e6ce3a2",
   "metadata": {},
   "outputs": [
    {
     "data": {
      "text/plain": [
       "KNeighborsClassifier(algorithm='kd_tree', leaf_size=3, n_neighbors=13)"
      ]
     },
     "execution_count": 77,
     "metadata": {},
     "output_type": "execute_result"
    }
   ],
   "source": [
    "knn.fit(x_train,y_train)"
   ]
  },
  {
   "cell_type": "code",
   "execution_count": 78,
   "id": "ade90368",
   "metadata": {},
   "outputs": [],
   "source": [
    "y_pred=knn.predict(x_test)"
   ]
  },
  {
   "cell_type": "code",
   "execution_count": 79,
   "id": "a7e409a4",
   "metadata": {},
   "outputs": [
    {
     "data": {
      "text/plain": [
       "array([[175,   7],\n",
       "       [ 55,  13]], dtype=int64)"
      ]
     },
     "execution_count": 79,
     "metadata": {},
     "output_type": "execute_result"
    }
   ],
   "source": [
    "cfm=confusion_matrix(y_test,y_pred)\n",
    "cfm"
   ]
  },
  {
   "cell_type": "code",
   "execution_count": 80,
   "id": "3069b663",
   "metadata": {},
   "outputs": [
    {
     "name": "stdout",
     "output_type": "stream",
     "text": [
      "              precision    recall  f1-score   support\n",
      "\n",
      "           0       0.76      0.96      0.85       182\n",
      "           1       0.65      0.19      0.30        68\n",
      "\n",
      "    accuracy                           0.75       250\n",
      "   macro avg       0.71      0.58      0.57       250\n",
      "weighted avg       0.73      0.75      0.70       250\n",
      "\n"
     ]
    }
   ],
   "source": [
    "print(classification_report(y_test,y_pred,digits=2))"
   ]
  },
  {
   "cell_type": "code",
   "execution_count": null,
   "id": "0d7c7df2",
   "metadata": {},
   "outputs": [],
   "source": []
  },
  {
   "cell_type": "code",
   "execution_count": null,
   "id": "4cb1590d",
   "metadata": {},
   "outputs": [],
   "source": []
  },
  {
   "cell_type": "code",
   "execution_count": null,
   "id": "80b9098b",
   "metadata": {},
   "outputs": [],
   "source": []
  },
  {
   "cell_type": "code",
   "execution_count": null,
   "id": "ac45cdac",
   "metadata": {},
   "outputs": [],
   "source": []
  },
  {
   "cell_type": "code",
   "execution_count": null,
   "id": "9b81650f",
   "metadata": {},
   "outputs": [],
   "source": []
  },
  {
   "cell_type": "code",
   "execution_count": null,
   "id": "bd9028c3",
   "metadata": {},
   "outputs": [],
   "source": []
  },
  {
   "cell_type": "code",
   "execution_count": null,
   "id": "b04619cc",
   "metadata": {},
   "outputs": [],
   "source": []
  },
  {
   "cell_type": "code",
   "execution_count": null,
   "id": "eb71b657",
   "metadata": {},
   "outputs": [],
   "source": []
  }
 ],
 "metadata": {
  "kernelspec": {
   "display_name": "Python 3 (ipykernel)",
   "language": "python",
   "name": "python3"
  },
  "language_info": {
   "codemirror_mode": {
    "name": "ipython",
    "version": 3
   },
   "file_extension": ".py",
   "mimetype": "text/x-python",
   "name": "python",
   "nbconvert_exporter": "python",
   "pygments_lexer": "ipython3",
   "version": "3.9.7"
  }
 },
 "nbformat": 4,
 "nbformat_minor": 5
}
